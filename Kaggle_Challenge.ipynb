{
  "nbformat": 4,
  "nbformat_minor": 0,
  "metadata": {
    "kernelspec": {
      "display_name": "kaggle_cl_challenge",
      "language": "python",
      "name": "kaggle_cl_challenge"
    },
    "language_info": {
      "codemirror_mode": {
        "name": "ipython",
        "version": 3
      },
      "file_extension": ".py",
      "mimetype": "text/x-python",
      "name": "python",
      "nbconvert_exporter": "python",
      "pygments_lexer": "ipython3",
      "version": "3.8.3"
    },
    "colab": {
      "name": "Kaggle Challenge.ipynb",
      "provenance": [],
      "include_colab_link": true
    }
  },
  "cells": [
    {
      "cell_type": "markdown",
      "metadata": {
        "id": "view-in-github",
        "colab_type": "text"
      },
      "source": [
        "<a href=\"https://colab.research.google.com/github/REFENTSE-MOTLGELWA/classification-predict-streamlit-template/blob/master/Kaggle_Challenge.ipynb\" target=\"_parent\"><img src=\"https://colab.research.google.com/assets/colab-badge.svg\" alt=\"Open In Colab\"/></a>"
      ]
    },
    {
      "cell_type": "markdown",
      "metadata": {
        "id": "LQ1KSRWMwF9U",
        "colab_type": "text"
      },
      "source": [
        "# <font color=blue>Kaggle Classification Challenge"
      ]
    },
    {
      "cell_type": "markdown",
      "metadata": {
        "id": "QmFmDVB_wF9V",
        "colab_type": "text"
      },
      "source": [
        "___"
      ]
    },
    {
      "cell_type": "markdown",
      "metadata": {
        "id": "FD726od7wF9W",
        "colab_type": "text"
      },
      "source": [
        "## <font color=blue>Problem statement and Overview "
      ]
    },
    {
      "cell_type": "markdown",
      "metadata": {
        "id": "QoCAEzpowF9X",
        "colab_type": "text"
      },
      "source": [
        "The purpose of this notebook is to show our workings as Team 5 for the Kaggle in-class challenge on perfoming sentiment analysis on tweets, particularly **predicting or classifying how a particular Twitter user feels about Climate Change based on their body of messgae/tweet**.<br>"
      ]
    },
    {
      "cell_type": "markdown",
      "metadata": {
        "id": "SoXrrkPzwF9Y",
        "colab_type": "text"
      },
      "source": [
        "##### <font color=blue>Team 5 members:<br>\n",
        "- Evans Marema\n",
        "- Vinita Maharaj\n",
        "- Gugu Mtonjeni\n",
        "- Refentse Motlogelwa\n",
        "- Sandile Dladla\n",
        "- Sandile Mkize"
      ]
    },
    {
      "cell_type": "markdown",
      "metadata": {
        "id": "mGhLXGv1wF9Z",
        "colab_type": "text"
      },
      "source": [
        "For this challenge we were provided with two datasets(for taining and testing our models) and a sample submission "
      ]
    },
    {
      "cell_type": "markdown",
      "metadata": {
        "id": "cS_Eiq0vwF9a",
        "colab_type": "text"
      },
      "source": [
        "- test.csv ---------------------------- Dataset to be used for predictions which will be accessed on Kaggle model\n",
        "- train.csv --------------------------- Dataset to be use for training model\n",
        "- sample_submission.csv ------ An Example of a submission file"
      ]
    },
    {
      "cell_type": "markdown",
      "metadata": {
        "id": "HmTsizOGwF9a",
        "colab_type": "text"
      },
      "source": [
        "___"
      ]
    },
    {
      "cell_type": "code",
      "metadata": {
        "id": "IITuSLz0wF9b",
        "colab_type": "code",
        "colab": {},
        "outputId": "c4e7ebf7-ba73-452e-85f2-7a52639ad2a4"
      },
      "source": [
        "# Import comet_ml for versioning\n",
        "from comet_ml import Experiment\n",
        "\n",
        "experiment = Experiment(api_key=\"toXXRULujXVmmXBW2zMcncxEI\",\n",
        "                        project_name=\"general\", workspace=\"shyken\")"
      ],
      "execution_count": null,
      "outputs": [
        {
          "output_type": "stream",
          "text": [
            "COMET INFO: Experiment is live on comet.ml https://www.comet.ml/shyken/general/49683782d19b4d558e999aa6c5590bfd\n",
            "\n"
          ],
          "name": "stderr"
        }
      ]
    },
    {
      "cell_type": "markdown",
      "metadata": {
        "id": "Vsg1L-0qwF9i",
        "colab_type": "text"
      },
      "source": [
        "### <font color=blue>Library imports"
      ]
    },
    {
      "cell_type": "code",
      "metadata": {
        "id": "VG0RMz4PwF9j",
        "colab_type": "code",
        "colab": {}
      },
      "source": [
        "import numpy as np\n",
        "import pandas as pd\n",
        "import matplotlib.pyplot as plt\n",
        "import seaborn as sns\n",
        "import nltk\n",
        "import spacy\n",
        "import re\n",
        "import emoji"
      ],
      "execution_count": 3,
      "outputs": []
    },
    {
      "cell_type": "code",
      "metadata": {
        "id": "OlFLypzpwF9n",
        "colab_type": "code",
        "colab": {}
      },
      "source": [
        "# For printing option and text color\n",
        "class color:\n",
        "    PURPLE = '\\033[95m'\n",
        "    CYAN = '\\033[96m'\n",
        "    DARKCYAN = '\\033[36m'\n",
        "    BLUE = '\\033[94m'\n",
        "    GREEN = '\\033[92m'\n",
        "    YELLOW = '\\033[93m'\n",
        "    RED = '\\033[91m'\n",
        "    BOLD = '\\033[1m'\n",
        "    UNDERLINE = '\\033[4m'\n",
        "    END = '\\033[0m'"
      ],
      "execution_count": null,
      "outputs": []
    },
    {
      "cell_type": "code",
      "metadata": {
        "id": "Z-w2_2mfwF9q",
        "colab_type": "code",
        "colab": {}
      },
      "source": [
        "df_sub = pd.read_csv('sample_submission.csv')\n",
        "df_test = pd.read_csv('test.csv')\n",
        "test_df = df_test.set_index('tweetid')\n",
        "df_train = pd.read_csv('train.csv')\n",
        "train_df = df_train.set_index('tweetid')"
      ],
      "execution_count": 4,
      "outputs": []
    },
    {
      "cell_type": "code",
      "metadata": {
        "id": "fvQRmnb9wF9u",
        "colab_type": "code",
        "colab": {},
        "outputId": "158d3e26-8f41-4cc1-c9c9-3fb1c51969ea"
      },
      "source": [
        "test_df.head()"
      ],
      "execution_count": null,
      "outputs": [
        {
          "output_type": "execute_result",
          "data": {
            "text/html": [
              "<div>\n",
              "<style scoped>\n",
              "    .dataframe tbody tr th:only-of-type {\n",
              "        vertical-align: middle;\n",
              "    }\n",
              "\n",
              "    .dataframe tbody tr th {\n",
              "        vertical-align: top;\n",
              "    }\n",
              "\n",
              "    .dataframe thead th {\n",
              "        text-align: right;\n",
              "    }\n",
              "</style>\n",
              "<table border=\"1\" class=\"dataframe\">\n",
              "  <thead>\n",
              "    <tr style=\"text-align: right;\">\n",
              "      <th></th>\n",
              "      <th>message</th>\n",
              "    </tr>\n",
              "    <tr>\n",
              "      <th>tweetid</th>\n",
              "      <th></th>\n",
              "    </tr>\n",
              "  </thead>\n",
              "  <tbody>\n",
              "    <tr>\n",
              "      <th>169760</th>\n",
              "      <td>Europe will now be looking to China to make su...</td>\n",
              "    </tr>\n",
              "    <tr>\n",
              "      <th>35326</th>\n",
              "      <td>Combine this with the polling of staffers re c...</td>\n",
              "    </tr>\n",
              "    <tr>\n",
              "      <th>224985</th>\n",
              "      <td>The scary, unimpeachable evidence that climate...</td>\n",
              "    </tr>\n",
              "    <tr>\n",
              "      <th>476263</th>\n",
              "      <td>@Karoli @morgfair @OsborneInk @dailykos \\nPuti...</td>\n",
              "    </tr>\n",
              "    <tr>\n",
              "      <th>872928</th>\n",
              "      <td>RT @FakeWillMoore: 'Female orgasms cause globa...</td>\n",
              "    </tr>\n",
              "  </tbody>\n",
              "</table>\n",
              "</div>"
            ],
            "text/plain": [
              "                                                   message\n",
              "tweetid                                                   \n",
              "169760   Europe will now be looking to China to make su...\n",
              "35326    Combine this with the polling of staffers re c...\n",
              "224985   The scary, unimpeachable evidence that climate...\n",
              "476263   @Karoli @morgfair @OsborneInk @dailykos \\nPuti...\n",
              "872928   RT @FakeWillMoore: 'Female orgasms cause globa..."
            ]
          },
          "metadata": {
            "tags": []
          },
          "execution_count": 5
        }
      ]
    },
    {
      "cell_type": "code",
      "metadata": {
        "id": "QgQ1FrJ1wF9y",
        "colab_type": "code",
        "colab": {},
        "outputId": "3d481265-82d6-46f2-a797-309eb0c9e4dd"
      },
      "source": [
        "test_df.shape"
      ],
      "execution_count": null,
      "outputs": [
        {
          "output_type": "execute_result",
          "data": {
            "text/plain": [
              "(10546, 1)"
            ]
          },
          "metadata": {
            "tags": []
          },
          "execution_count": 6
        }
      ]
    },
    {
      "cell_type": "code",
      "metadata": {
        "id": "ZQ4xPXkywF95",
        "colab_type": "code",
        "colab": {},
        "outputId": "963cc3c9-a201-426f-87e7-95abd30c1de8"
      },
      "source": [
        "train_df.head()"
      ],
      "execution_count": null,
      "outputs": [
        {
          "output_type": "execute_result",
          "data": {
            "text/html": [
              "<div>\n",
              "<style scoped>\n",
              "    .dataframe tbody tr th:only-of-type {\n",
              "        vertical-align: middle;\n",
              "    }\n",
              "\n",
              "    .dataframe tbody tr th {\n",
              "        vertical-align: top;\n",
              "    }\n",
              "\n",
              "    .dataframe thead th {\n",
              "        text-align: right;\n",
              "    }\n",
              "</style>\n",
              "<table border=\"1\" class=\"dataframe\">\n",
              "  <thead>\n",
              "    <tr style=\"text-align: right;\">\n",
              "      <th></th>\n",
              "      <th>sentiment</th>\n",
              "      <th>message</th>\n",
              "    </tr>\n",
              "    <tr>\n",
              "      <th>tweetid</th>\n",
              "      <th></th>\n",
              "      <th></th>\n",
              "    </tr>\n",
              "  </thead>\n",
              "  <tbody>\n",
              "    <tr>\n",
              "      <th>625221</th>\n",
              "      <td>1</td>\n",
              "      <td>PolySciMajor EPA chief doesn't think carbon di...</td>\n",
              "    </tr>\n",
              "    <tr>\n",
              "      <th>126103</th>\n",
              "      <td>1</td>\n",
              "      <td>It's not like we lack evidence of anthropogeni...</td>\n",
              "    </tr>\n",
              "    <tr>\n",
              "      <th>698562</th>\n",
              "      <td>2</td>\n",
              "      <td>RT @RawStory: Researchers say we have three ye...</td>\n",
              "    </tr>\n",
              "    <tr>\n",
              "      <th>573736</th>\n",
              "      <td>1</td>\n",
              "      <td>#TodayinMaker# WIRED : 2016 was a pivotal year...</td>\n",
              "    </tr>\n",
              "    <tr>\n",
              "      <th>466954</th>\n",
              "      <td>1</td>\n",
              "      <td>RT @SoyNovioDeTodas: It's 2016, and a racist, ...</td>\n",
              "    </tr>\n",
              "  </tbody>\n",
              "</table>\n",
              "</div>"
            ],
            "text/plain": [
              "         sentiment                                            message\n",
              "tweetid                                                              \n",
              "625221           1  PolySciMajor EPA chief doesn't think carbon di...\n",
              "126103           1  It's not like we lack evidence of anthropogeni...\n",
              "698562           2  RT @RawStory: Researchers say we have three ye...\n",
              "573736           1  #TodayinMaker# WIRED : 2016 was a pivotal year...\n",
              "466954           1  RT @SoyNovioDeTodas: It's 2016, and a racist, ..."
            ]
          },
          "metadata": {
            "tags": []
          },
          "execution_count": 7
        }
      ]
    },
    {
      "cell_type": "code",
      "metadata": {
        "id": "ROZUMhZ4wF99",
        "colab_type": "code",
        "colab": {},
        "outputId": "e734c745-3a6e-46e4-ff33-7da71b6b1a38"
      },
      "source": [
        "train_df.shape"
      ],
      "execution_count": null,
      "outputs": [
        {
          "output_type": "execute_result",
          "data": {
            "text/plain": [
              "(15819, 2)"
            ]
          },
          "metadata": {
            "tags": []
          },
          "execution_count": 8
        }
      ]
    },
    {
      "cell_type": "markdown",
      "metadata": {
        "id": "1kClomI8wF-C",
        "colab_type": "text"
      },
      "source": [
        "## <font color=blue> Exploditory Data Analysis "
      ]
    },
    {
      "cell_type": "code",
      "metadata": {
        "id": "5D_qKA01wF-D",
        "colab_type": "code",
        "colab": {},
        "outputId": "8953689f-162a-4621-8bec-e61580b3c133"
      },
      "source": [
        "print(f'Missing values in train dataset:\\n{train_df.isna().sum()}\\n')\n",
        "print(f'Missing values in test dataset:\\n{test_df.isna().sum()}')"
      ],
      "execution_count": null,
      "outputs": [
        {
          "output_type": "stream",
          "text": [
            "Missing values in train dataset:\n",
            "sentiment    0\n",
            "message      0\n",
            "dtype: int64\n",
            "\n",
            "Missing values in test dataset:\n",
            "message    0\n",
            "dtype: int64\n"
          ],
          "name": "stdout"
        }
      ]
    },
    {
      "cell_type": "code",
      "metadata": {
        "id": "QI_uzZpuwF-G",
        "colab_type": "code",
        "colab": {}
      },
      "source": [
        "# Checking for Empty messages in both train and test datasets\n",
        "\n",
        "blanks_test = []\n",
        "for tID,msg in test_df.itertuples():\n",
        "    if msg.isspace == True:\n",
        "        blanks_test.append(tID)\n",
        "\n",
        "blanks_train = []\n",
        "for tID,sent,msg in train_df.itertuples():\n",
        "    if msg.isspace == True:\n",
        "        blanks_test.append(tID)"
      ],
      "execution_count": null,
      "outputs": []
    },
    {
      "cell_type": "code",
      "metadata": {
        "id": "JBuHp470wF-N",
        "colab_type": "code",
        "colab": {},
        "outputId": "5a7bd2dc-fc6e-4989-cf8d-9e520eb23668"
      },
      "source": [
        "print(f'No. of empty messages in train: {len(blanks_train)}\\n')\n",
        "print(f'No. of empty messages in test: {len(blanks_test)}')"
      ],
      "execution_count": null,
      "outputs": [
        {
          "output_type": "stream",
          "text": [
            "No. of empty messages in train: 0\n",
            "\n",
            "No. of empty messages in test: 0\n"
          ],
          "name": "stdout"
        }
      ]
    },
    {
      "cell_type": "markdown",
      "metadata": {
        "id": "CD98AiwiwF-T",
        "colab_type": "text"
      },
      "source": [
        "**Both the train and test datasets do not have nulls or empty strings** "
      ]
    },
    {
      "cell_type": "markdown",
      "metadata": {
        "id": "lO4prrBJwF-T",
        "colab_type": "text"
      },
      "source": [
        "___"
      ]
    },
    {
      "cell_type": "markdown",
      "metadata": {
        "id": "_xIAT3K_wF-U",
        "colab_type": "text"
      },
      "source": [
        "Different `sentiment` classes types and their corrisponding descriptions"
      ]
    },
    {
      "cell_type": "markdown",
      "metadata": {
        "id": "9OSogdeWwF-V",
        "colab_type": "text"
      },
      "source": [
        "<img src=\"https://github.com/REFENTSE-MOTLGELWA/classification-predict-streamlit-template/blob/master/class_description.png?raw=1\">"
      ]
    },
    {
      "cell_type": "markdown",
      "metadata": {
        "id": "mFSYDAJzwF-W",
        "colab_type": "text"
      },
      "source": [
        " "
      ]
    },
    {
      "cell_type": "markdown",
      "metadata": {
        "id": "xK0koap-wF-W",
        "colab_type": "text"
      },
      "source": [
        "  "
      ]
    },
    {
      "cell_type": "code",
      "metadata": {
        "id": "i5yuBdSrwF-X",
        "colab_type": "code",
        "colab": {},
        "outputId": "beece660-3cfd-49b0-f88a-91aa0406984a"
      },
      "source": [
        "# Count of classes in sentiment \n",
        "\n",
        "sns.set(style=\"darkgrid\",palette='summer')\n",
        "ax = sns.countplot(x='sentiment', data=train_df)"
      ],
      "execution_count": null,
      "outputs": [
        {
          "output_type": "display_data",
          "data": {
            "image/png": "[encoded data removed]",
            "text/plain": [
              "<Figure size 432x288 with 1 Axes>"
            ]
          },
          "metadata": {
            "tags": []
          }
        }
      ]
    },
    {
      "cell_type": "code",
      "metadata": {
        "id": "pTd2t1bmwF-e",
        "colab_type": "code",
        "colab": {},
        "outputId": "5da14df1-2103-4268-a9e0-e3737eb3b86b"
      },
      "source": [
        "print(color.BOLD +'Percentage of a particular `Class` in the train dataset\\n'+ color.END)\n",
        "print(f'Class 2 ~ News \\n{round((df_train.sentiment.value_counts()[2]/len(df_train))*100,2)} %\\n')\n",
        "print(f'Class 1 ~ Pro \\n{round((df_train.sentiment.value_counts()[1]/len(df_train))*100,2)} %\\n')\n",
        "print(f'Class 0 ~ Neutral \\n{round((df_train.sentiment.value_counts()[0]/len(df_train))*100,2)} %\\n')\n",
        "print(f'Class -1 ~ Anti \\n{round((df_train.sentiment.value_counts()[-1]/len(df_train))*100,2)} %')"
      ],
      "execution_count": null,
      "outputs": [
        {
          "output_type": "stream",
          "text": [
            "\u001b[1mPercentage of a particular `Class` in the train dataset\n",
            "\u001b[0m\n",
            "Class 2 ~ News \n",
            "23.01 %\n",
            "\n",
            "Class 1 ~ Pro \n",
            "53.92 %\n",
            "\n",
            "Class 0 ~ Neutral \n",
            "14.87 %\n",
            "\n",
            "Class -1 ~ Anti \n",
            "8.19 %\n"
          ],
          "name": "stdout"
        }
      ]
    },
    {
      "cell_type": "markdown",
      "metadata": {
        "id": "x6ArPbwknNzN",
        "colab_type": "text"
      },
      "source": [
        "**Checking length of tweets per class**"
      ]
    },
    {
      "cell_type": "code",
      "metadata": {
        "id": "nwTd0rifmur0",
        "colab_type": "code",
        "colab": {
          "base_uri": "https://localhost:8080/",
          "height": 441
        },
        "outputId": "9131fd6c-f010-4381-c499-64512cecade9"
      },
      "source": [
        "df_train['length'] = df_train['message'].apply(len)\n",
        "graph = sns.FacetGrid(data=df_train, col = 'sentiment', col_wrap=2)\n",
        "graph.map(plt.hist, 'length', bins = 30, color = 'g');"
      ],
      "execution_count": 6,
      "outputs": [
        {
          "output_type": "display_data",
          "data": {
            "image/png": "[encoded data removed]",
            "text/plain": [
              "<Figure size 432x432 with 4 Axes>"
            ]
          },
          "metadata": {
            "tags": [],
            "needs_background": "light"
          }
        }
      ]
    },
    {
      "cell_type": "markdown",
      "metadata": {
        "id": "37XLVHwBwF-l",
        "colab_type": "text"
      },
      "source": [
        "**Checking for duplicates and removing them**"
      ]
    },
    {
      "cell_type": "code",
      "metadata": {
        "id": "93KjtVxjwF-m",
        "colab_type": "code",
        "colab": {}
      },
      "source": [
        "# checking for an\n",
        "def duplicate_remover(df,column_name):\n",
        "    copy = df.copy()\n",
        "    cn = column_name\n",
        "    i = 0\n",
        "    for tweet in copy[cn]:\n",
        "        \n",
        "        if i in copy.index:\n",
        "            \n",
        "            if (copy[cn]==copy[cn][i]).sum() > 1:\n",
        "                dup_index = list(copy[copy[cn]==copy[cn][i]].index)\n",
        "                dup_index.pop(0)\n",
        "                copy.drop(axis=0,index=dup_index,inplace=True)\n",
        "                copy.reset_index(drop=True)\n",
        "            i=i+1\n",
        "        else:\n",
        "            i=i+1\n",
        "    return copy.reset_index(drop=True)"
      ],
      "execution_count": null,
      "outputs": []
    },
    {
      "cell_type": "code",
      "metadata": {
        "id": "osc2za8uwF-t",
        "colab_type": "code",
        "colab": {}
      },
      "source": [
        "train = duplicate_remover(train_df,'message')\n",
        "test = test_df.copy()"
      ],
      "execution_count": null,
      "outputs": []
    },
    {
      "cell_type": "code",
      "metadata": {
        "id": "5M8MC8c9wF-z",
        "colab_type": "code",
        "colab": {},
        "outputId": "951ec102-dad5-4388-ff47-aba8e5756e6e"
      },
      "source": [
        "print(train.shape)\n",
        "print(test.shape)"
      ],
      "execution_count": null,
      "outputs": [
        {
          "output_type": "stream",
          "text": [
            "(15125, 2)\n",
            "(10546, 1)\n"
          ],
          "name": "stdout"
        }
      ]
    },
    {
      "cell_type": "code",
      "metadata": {
        "id": "f92SZH61wF-4",
        "colab_type": "code",
        "colab": {},
        "outputId": "1295025d-3e46-470b-ce6a-6a79be6f5f63"
      },
      "source": [
        "train_diff = train_df.sentiment.value_counts() - train.sentiment.value_counts()\n",
        "train_diff"
      ],
      "execution_count": null,
      "outputs": [
        {
          "output_type": "execute_result",
          "data": {
            "text/plain": [
              " 1    649\n",
              " 2     18\n",
              " 0     23\n",
              "-1      4\n",
              "Name: sentiment, dtype: int64"
            ]
          },
          "metadata": {
            "tags": []
          },
          "execution_count": 23
        }
      ]
    },
    {
      "cell_type": "markdown",
      "metadata": {
        "id": "TebsLFwOwF--",
        "colab_type": "text"
      },
      "source": [
        "**The following functions are both to feature selection and extract useful information that will be used for insights**\n"
      ]
    },
    {
      "cell_type": "markdown",
      "metadata": {
        "id": "hLV6rvJqwF_B",
        "colab_type": "text"
      },
      "source": [
        "Feature's like `url's`,  `@mentions`,  `hashtags` and `emojis` will be analised further to gain insight"
      ]
    },
    {
      "cell_type": "code",
      "metadata": {
        "id": "6hpId9ZXwF_C",
        "colab_type": "code",
        "colab": {}
      },
      "source": [
        "# Finds URL's in a string\n",
        "def find_url(string): \n",
        "    text = re.findall('http[s]?://(?:[a-zA-Z]|[0-9]|[$-_@.&+]|[!*\\(\\),]|(?:%[0-9a-fA-F][0-9a-fA-F]))+',string)\n",
        "    return \"\".join(text)"
      ],
      "execution_count": null,
      "outputs": []
    },
    {
      "cell_type": "code",
      "metadata": {
        "id": "eAsF8EYfwF_H",
        "colab_type": "code",
        "colab": {}
      },
      "source": [
        "train['url'] = train.message.apply(lambda x:find_url(x))\n",
        "\n",
        "test['url']= test.message.apply(lambda x:find_url(x))"
      ],
      "execution_count": null,
      "outputs": []
    },
    {
      "cell_type": "code",
      "metadata": {
        "id": "-CkPiWkkwF_M",
        "colab_type": "code",
        "colab": {}
      },
      "source": [
        "# Finds and removes url in tweets boby \n",
        "train['message']=train['message'].apply(lambda x: re.sub(\n",
        "    pattern='http[s]?://(?:[a-zA-Z]|[0-9]|[$-_@.&+]|[!*\\(\\),]|(?:%[0-9a-fA-F][0-9a-fA-F]))+',\n",
        "    repl='',\n",
        "    string=x))\n",
        "\n",
        "test['message']=test['message'].apply(lambda x: re.sub(\n",
        "    pattern='http[s]?://(?:[a-zA-Z]|[0-9]|[$-_@.&+]|[!*\\(\\),]|(?:%[0-9a-fA-F][0-9a-fA-F]))+',\n",
        "    repl='',\n",
        "    string=x))"
      ],
      "execution_count": null,
      "outputs": []
    },
    {
      "cell_type": "code",
      "metadata": {
        "id": "LqIB2OSLwF_R",
        "colab_type": "code",
        "colab": {}
      },
      "source": [
        "# Corrects/replaces contractions with full words\n",
        "\n",
        "def correct_contraction(tweet):\n",
        "    tweet = re.sub(r\"he's\", \"he is\", tweet)\n",
        "    tweet = re.sub(r\"there's\", \"there is\", tweet)\n",
        "    tweet = re.sub(r\"We're\", \"We are\", tweet)\n",
        "    tweet = re.sub(r\"That's\", \"That is\", tweet)\n",
        "    tweet = re.sub(r\"won't\", \"will not\", tweet)\n",
        "    tweet = re.sub(r\"they're\", \"they are\", tweet)\n",
        "    tweet = re.sub(r\"Can't\", \"Cannot\", tweet)\n",
        "    tweet = re.sub(r\"wasn't\", \"was not\", tweet)\n",
        "    tweet = re.sub(r\"aren't\", \"are not\", tweet)\n",
        "    tweet = re.sub(r\"isn't\", \"is not\", tweet)\n",
        "    tweet = re.sub(r\"What's\", \"What is\", tweet)\n",
        "    tweet = re.sub(r\"i'd\", \"I would\", tweet)\n",
        "    tweet = re.sub(r\"should've\", \"should have\", tweet)\n",
        "    tweet = re.sub(r\"where's\", \"where is\", tweet)\n",
        "    tweet = re.sub(r\"we'd\", \"we would\", tweet)\n",
        "    tweet = re.sub(r\"i'll\", \"I will\", tweet)\n",
        "    tweet = re.sub(r\"weren't\", \"were not\", tweet)\n",
        "    tweet = re.sub(r\"They're\", \"They are\", tweet)\n",
        "    tweet = re.sub(r\"let's\", \"let us\", tweet)\n",
        "    tweet = re.sub(r\"it's\", \"it is\", tweet)\n",
        "    tweet = re.sub(r\"can't\", \"cannot\", tweet)\n",
        "    tweet = re.sub(r\"don't\", \"do not\", tweet)\n",
        "    tweet = re.sub(r\"you're\", \"you are\", tweet)\n",
        "    tweet = re.sub(r\"i've\", \"I have\", tweet)\n",
        "    tweet = re.sub(r\"that's\", \"that is\", tweet)\n",
        "    tweet = re.sub(r\"i'll\", \"I will\", tweet)\n",
        "    tweet = re.sub(r\"doesn't\", \"does not\", tweet)\n",
        "    tweet = re.sub(r\"i'd\", \"I would\", tweet)\n",
        "    tweet = re.sub(r\"didn't\", \"did not\", tweet)\n",
        "    tweet = re.sub(r\"ain't\", \"am not\", tweet)\n",
        "    tweet = re.sub(r\"you'll\", \"you will\", tweet)\n",
        "    tweet = re.sub(r\"I've\", \"I have\", tweet)\n",
        "    tweet = re.sub(r\"Don't\", \"do not\", tweet)\n",
        "    tweet = re.sub(r\"I'll\", \"I will\", tweet)\n",
        "    tweet = re.sub(r\"I'd\", \"I would\", tweet)\n",
        "    tweet = re.sub(r\"Let's\", \"Let us\", tweet)\n",
        "    tweet = re.sub(r\"you'd\", \"You would\", tweet)\n",
        "    tweet = re.sub(r\"It's\", \"It is\", tweet)\n",
        "    tweet = re.sub(r\"Ain't\", \"am not\", tweet)\n",
        "    tweet = re.sub(r\"Haven't\", \"Have not\", tweet)\n",
        "    tweet = re.sub(r\"Could've\", \"Could have\", tweet)\n",
        "    tweet = re.sub(r\"youve\", \"you have\", tweet)\n",
        "    tweet = re.sub(r\"haven't\", \"have not\", tweet)\n",
        "    tweet = re.sub(r\"hasn't\", \"has not\", tweet)\n",
        "    tweet = re.sub(r\"There's\", \"There is\", tweet)\n",
        "    tweet = re.sub(r\"He's\", \"He is\", tweet)\n",
        "    tweet = re.sub(r\"It's\", \"It is\", tweet)\n",
        "    tweet = re.sub(r\"You're\", \"You are\", tweet)\n",
        "    tweet = re.sub(r\"I'M\", \"I am\", tweet)\n",
        "    tweet = re.sub(r\"shouldn't\", \"should not\", tweet)\n",
        "    tweet = re.sub(r\"wouldn't\", \"would not\", tweet)\n",
        "    tweet = re.sub(r\"i'm\", \"I am\", tweet)\n",
        "    tweet = re.sub(r\"I'm\", \"I am\", tweet)\n",
        "    tweet = re.sub(r\"Isn't\", \"is not\", tweet)\n",
        "    tweet = re.sub(r\"Here's\", \"Here is\", tweet)\n",
        "    tweet = re.sub(r\"you've\", \"you have\", tweet)\n",
        "    tweet = re.sub(r\"we're\", \"we are\", tweet)\n",
        "    tweet = re.sub(r\"what's\", \"what is\", tweet)\n",
        "    tweet = re.sub(r\"couldn't\", \"could not\", tweet)\n",
        "    tweet = re.sub(r\"we've\", \"we have\", tweet)\n",
        "    tweet = re.sub(r\"who's\", \"who is\", tweet)\n",
        "    tweet = re.sub(r\"y'all\", \"you all\", tweet)\n",
        "    tweet = re.sub(r\"would've\", \"would have\", tweet)\n",
        "    tweet = re.sub(r\"it'll\", \"it will\", tweet)\n",
        "    tweet = re.sub(r\"we'll\", \"we will\", tweet)\n",
        "    tweet = re.sub(r\"We've\", \"We have\", tweet)\n",
        "    tweet = re.sub(r\"he'll\", \"he will\", tweet)\n",
        "    tweet = re.sub(r\"Y'all\", \"You all\", tweet)\n",
        "    tweet = re.sub(r\"Weren't\", \"Were not\", tweet)\n",
        "    tweet = re.sub(r\"Didn't\", \"Did not\", tweet)\n",
        "    tweet = re.sub(r\"they'll\", \"they will\", tweet)\n",
        "    tweet = re.sub(r\"they'd\", \"they would\", tweet)\n",
        "    tweet = re.sub(r\"DON'T\", \"DO NOT\", tweet)\n",
        "    tweet = re.sub(r\"they've\", \"they have\", tweet)\n",
        "    \n",
        "    #correct some acronyms while we are at it\n",
        "    tweet = re.sub(r\"tnwx\", \"Tennessee Weather\", tweet)\n",
        "    tweet = re.sub(r\"azwx\", \"Arizona Weather\", tweet)  \n",
        "    tweet = re.sub(r\"alwx\", \"Alabama Weather\", tweet)\n",
        "    tweet = re.sub(r\"wordpressdotcom\", \"wordpress\", tweet)      \n",
        "    tweet = re.sub(r\"gawx\", \"Georgia Weather\", tweet)  \n",
        "    tweet = re.sub(r\"scwx\", \"South Carolina Weather\", tweet)  \n",
        "    tweet = re.sub(r\"cawx\", \"California Weather\", tweet)\n",
        "    tweet = re.sub(r\"usNWSgov\", \"United States National Weather Service\", tweet) \n",
        "    tweet = re.sub(r\"MH370\", \"Malaysia Airlines Flight 370\", tweet)\n",
        "    tweet = re.sub(r\"okwx\", \"Oklahoma City Weather\", tweet)\n",
        "    tweet = re.sub(r\"arwx\", \"Arkansas Weather\", tweet)  \n",
        "    tweet = re.sub(r\"lmao\", \"laughing my ass off\", tweet)  \n",
        "    tweet = re.sub(r\"amirite\", \"am I right\", tweet)\n",
        "    \n",
        "    #and some typos/abbreviations\n",
        "    tweet = re.sub(r\"w/e\", \"whatever\", tweet)\n",
        "    tweet = re.sub(r\"w/\", \"with\", tweet)\n",
        "    tweet = re.sub(r\"USAgov\", \"USA government\", tweet)\n",
        "    tweet = re.sub(r\"recentlu\", \"recently\", tweet)\n",
        "    tweet = re.sub(r\"Ph0tos\", \"Photos\", tweet)\n",
        "    tweet = re.sub(r\"exp0sed\", \"exposed\", tweet)\n",
        "    tweet = re.sub(r\"<3\", \"love\", tweet)\n",
        "    tweet = re.sub(r\"amageddon\", \"armageddon\", tweet)\n",
        "    tweet = re.sub(r\"Trfc\", \"Traffic\", tweet)\n",
        "    tweet = re.sub(r\"WindStorm\", \"Wind Storm\", tweet)\n",
        "    tweet = re.sub(r\"16yr\", \"16 year\", tweet)\n",
        "    tweet = re.sub(r\"TRAUMATISED\", \"traumatized\", tweet)\n",
        "    \n",
        "    #hashtags and usernames\n",
        "    tweet = re.sub(r\"IranDeal\", \"Iran Deal\", tweet)\n",
        "    tweet = re.sub(r\"ArianaGrande\", \"Ariana Grande\", tweet)\n",
        "    tweet = re.sub(r\"camilacabello97\", \"camila cabello\", tweet) \n",
        "    tweet = re.sub(r\"RondaRousey\", \"Ronda Rousey\", tweet)     \n",
        "    tweet = re.sub(r\"MTVHottest\", \"MTV Hottest\", tweet)\n",
        "    tweet = re.sub(r\"TrapMusic\", \"Trap Music\", tweet)\n",
        "    tweet = re.sub(r\"ProphetMuhammad\", \"Prophet Muhammad\", tweet)\n",
        "    tweet = re.sub(r\"PantherAttack\", \"Panther Attack\", tweet)\n",
        "    tweet = re.sub(r\"StrategicPatience\", \"Strategic Patience\", tweet)\n",
        "    tweet = re.sub(r\"socialnews\", \"social news\", tweet)\n",
        "    tweet = re.sub(r\"IDPs:\", \"Internally Displaced People :\", tweet)\n",
        "    tweet = re.sub(r\"ArtistsUnited\", \"Artists United\", tweet)\n",
        "    tweet = re.sub(r\"ClaytonBryant\", \"Clayton Bryant\", tweet)\n",
        "    tweet = re.sub(r\"jimmyfallon\", \"jimmy fallon\", tweet)\n",
        "    tweet = re.sub(r\"justinbieber\", \"justin bieber\", tweet)  \n",
        "    tweet = re.sub(r\"UTC2015\", \"UTC 2015\", tweet)\n",
        "    tweet = re.sub(r\"Time2015\", \"Time 2015\", tweet)\n",
        "    tweet = re.sub(r\"djicemoon\", \"dj icemoon\", tweet)\n",
        "    tweet = re.sub(r\"LivingSafely\", \"Living Safely\", tweet)\n",
        "    tweet = re.sub(r\"FIFA16\", \"Fifa 2016\", tweet)\n",
        "    tweet = re.sub(r\"thisiswhywecanthavenicethings\", \"this is why we cannot have nice things\", tweet)\n",
        "    tweet = re.sub(r\"bbcnews\", \"bbc news\", tweet)\n",
        "    tweet = re.sub(r\"UndergroundRailraod\", \"Underground Railraod\", tweet)\n",
        "    tweet = re.sub(r\"c4news\", \"c4 news\", tweet)\n",
        "    tweet = re.sub(r\"OBLITERATION\", \"obliteration\", tweet)\n",
        "    tweet = re.sub(r\"MUDSLIDE\", \"mudslide\", tweet)\n",
        "    tweet = re.sub(r\"NoSurrender\", \"No Surrender\", tweet)\n",
        "    tweet = re.sub(r\"NotExplained\", \"Not Explained\", tweet)\n",
        "    tweet = re.sub(r\"greatbritishbakeoff\", \"great british bake off\", tweet)\n",
        "    tweet = re.sub(r\"LondonFire\", \"London Fire\", tweet)\n",
        "    tweet = re.sub(r\"KOTAWeather\", \"KOTA Weather\", tweet)\n",
        "    tweet = re.sub(r\"LuchaUnderground\", \"Lucha Underground\", tweet)\n",
        "    tweet = re.sub(r\"KOIN6News\", \"KOIN 6 News\", tweet)\n",
        "    tweet = re.sub(r\"LiveOnK2\", \"Live On K2\", tweet)\n",
        "    tweet = re.sub(r\"9NewsGoldCoast\", \"9 News Gold Coast\", tweet)\n",
        "    tweet = re.sub(r\"nikeplus\", \"nike plus\", tweet)\n",
        "    tweet = re.sub(r\"david_cameron\", \"David Cameron\", tweet)\n",
        "    tweet = re.sub(r\"peterjukes\", \"Peter Jukes\", tweet)\n",
        "    tweet = re.sub(r\"MikeParrActor\", \"Michael Parr\", tweet)\n",
        "    tweet = re.sub(r\"4PlayThursdays\", \"Foreplay Thursdays\", tweet)\n",
        "    tweet = re.sub(r\"TGF2015\", \"Tontitown Grape Festival\", tweet)\n",
        "    tweet = re.sub(r\"realmandyrain\", \"Mandy Rain\", tweet)\n",
        "    tweet = re.sub(r\"GraysonDolan\", \"Grayson Dolan\", tweet)\n",
        "    tweet = re.sub(r\"ApolloBrown\", \"Apollo Brown\", tweet)\n",
        "    tweet = re.sub(r\"saddlebrooke\", \"Saddlebrooke\", tweet)\n",
        "    tweet = re.sub(r\"TontitownGrape\", \"Tontitown Grape\", tweet)\n",
        "    tweet = re.sub(r\"AbbsWinston\", \"Abbs Winston\", tweet)\n",
        "    tweet = re.sub(r\"ShaunKing\", \"Shaun King\", tweet)\n",
        "    tweet = re.sub(r\"MeekMill\", \"Meek Mill\", tweet)\n",
        "    tweet = re.sub(r\"TornadoGiveaway\", \"Tornado Giveaway\", tweet)\n",
        "    tweet = re.sub(r\"GRupdates\", \"GR updates\", tweet)\n",
        "    tweet = re.sub(r\"SouthDowns\", \"South Downs\", tweet)\n",
        "    tweet = re.sub(r\"braininjury\", \"brain injury\", tweet)\n",
        "    tweet = re.sub(r\"auspol\", \"Australian politics\", tweet)\n",
        "    tweet = re.sub(r\"PlannedParenthood\", \"Planned Parenthood\", tweet)\n",
        "    tweet = re.sub(r\"calgaryweather\", \"Calgary Weather\", tweet)\n",
        "    tweet = re.sub(r\"weallheartonedirection\", \"we all heart one direction\", tweet)\n",
        "    tweet = re.sub(r\"edsheeran\", \"Ed Sheeran\", tweet)\n",
        "    tweet = re.sub(r\"TrueHeroes\", \"True Heroes\", tweet)\n",
        "    tweet = re.sub(r\"ComplexMag\", \"Complex Magazine\", tweet)\n",
        "    tweet = re.sub(r\"TheAdvocateMag\", \"The Advocate Magazine\", tweet)\n",
        "    tweet = re.sub(r\"CityofCalgary\", \"City of Calgary\", tweet)\n",
        "    tweet = re.sub(r\"EbolaOutbreak\", \"Ebola Outbreak\", tweet)\n",
        "    tweet = re.sub(r\"SummerFate\", \"Summer Fate\", tweet)\n",
        "    tweet = re.sub(r\"RAmag\", \"Royal Academy Magazine\", tweet)\n",
        "    tweet = re.sub(r\"offers2go\", \"offers to go\", tweet)\n",
        "    tweet = re.sub(r\"ModiMinistry\", \"Modi Ministry\", tweet)\n",
        "    tweet = re.sub(r\"TAXIWAYS\", \"taxi ways\", tweet)\n",
        "    tweet = re.sub(r\"Calum5SOS\", \"Calum Hood\", tweet)\n",
        "    tweet = re.sub(r\"JamesMelville\", \"James Melville\", tweet)\n",
        "    tweet = re.sub(r\"JamaicaObserver\", \"Jamaica Observer\", tweet)\n",
        "    tweet = re.sub(r\"TweetLikeItsSeptember11th2001\", \"Tweet like it is september 11th 2001\", tweet)\n",
        "    tweet = re.sub(r\"cbplawyers\", \"cbp lawyers\", tweet)\n",
        "    tweet = re.sub(r\"fewmoretweets\", \"few more tweets\", tweet)\n",
        "    tweet = re.sub(r\"BlackLivesMatter\", \"Black Lives Matter\", tweet)\n",
        "    tweet = re.sub(r\"NASAHurricane\", \"NASA Hurricane\", tweet)\n",
        "    tweet = re.sub(r\"onlinecommunities\", \"online communities\", tweet)\n",
        "    tweet = re.sub(r\"humanconsumption\", \"human consumption\", tweet)\n",
        "    tweet = re.sub(r\"Typhoon-Devastated\", \"Typhoon Devastated\", tweet)\n",
        "    tweet = re.sub(r\"Meat-Loving\", \"Meat Loving\", tweet)\n",
        "    tweet = re.sub(r\"facialabuse\", \"facial abuse\", tweet)\n",
        "    tweet = re.sub(r\"LakeCounty\", \"Lake County\", tweet)\n",
        "    tweet = re.sub(r\"BeingAuthor\", \"Being Author\", tweet)\n",
        "    tweet = re.sub(r\"withheavenly\", \"with heavenly\", tweet)\n",
        "    tweet = re.sub(r\"thankU\", \"thank you\", tweet)\n",
        "    tweet = re.sub(r\"iTunesMusic\", \"iTunes Music\", tweet)\n",
        "    tweet = re.sub(r\"OffensiveContent\", \"Offensive Content\", tweet)\n",
        "    tweet = re.sub(r\"WorstSummerJob\", \"Worst Summer Job\", tweet)\n",
        "    tweet = re.sub(r\"HarryBeCareful\", \"Harry Be Careful\", tweet)\n",
        "    tweet = re.sub(r\"NASASolarSystem\", \"NASA Solar System\", tweet)\n",
        "    tweet = re.sub(r\"animalrescue\", \"animal rescue\", tweet)\n",
        "    tweet = re.sub(r\"KurtSchlichter\", \"Kurt Schlichter\", tweet)\n",
        "    tweet = re.sub(r\"aRmageddon\", \"armageddon\", tweet)\n",
        "    tweet = re.sub(r\"Throwingknifes\", \"Throwing knives\", tweet)\n",
        "    tweet = re.sub(r\"GodsLove\", \"God's Love\", tweet)\n",
        "    tweet = re.sub(r\"bookboost\", \"book boost\", tweet)\n",
        "    tweet = re.sub(r\"ibooklove\", \"I book love\", tweet)\n",
        "    tweet = re.sub(r\"NestleIndia\", \"Nestle India\", tweet)\n",
        "    tweet = re.sub(r\"realDonaldTrump\", \"Donald Trump\", tweet)\n",
        "    tweet = re.sub(r\"DavidVonderhaar\", \"David Vonderhaar\", tweet)\n",
        "    tweet = re.sub(r\"CecilTheLion\", \"Cecil The Lion\", tweet)\n",
        "    tweet = re.sub(r\"weathernetwork\", \"weather network\", tweet)\n",
        "    tweet = re.sub(r\"withBioterrorism&use\", \"with Bioterrorism & use\", tweet)\n",
        "    tweet = re.sub(r\"Hostage&2\", \"Hostage & 2\", tweet)\n",
        "    tweet = re.sub(r\"GOPDebate\", \"GOP Debate\", tweet)\n",
        "    tweet = re.sub(r\"RickPerry\", \"Rick Perry\", tweet)\n",
        "    tweet = re.sub(r\"frontpage\", \"front page\", tweet)\n",
        "    tweet = re.sub(r\"NewsInTweets\", \"News In Tweets\", tweet)\n",
        "    tweet = re.sub(r\"ViralSpell\", \"Viral Spell\", tweet)\n",
        "    tweet = re.sub(r\"til_now\", \"until now\", tweet)\n",
        "    tweet = re.sub(r\"volcanoinRussia\", \"volcano in Russia\", tweet)\n",
        "    tweet = re.sub(r\"ZippedNews\", \"Zipped News\", tweet)\n",
        "    tweet = re.sub(r\"MicheleBachman\", \"Michele Bachman\", tweet)\n",
        "    tweet = re.sub(r\"53inch\", \"53 inch\", tweet)\n",
        "    tweet = re.sub(r\"KerrickTrial\", \"Kerrick Trial\", tweet)\n",
        "    tweet = re.sub(r\"abstorm\", \"Alberta Storm\", tweet)\n",
        "    tweet = re.sub(r\"Beyhive\", \"Beyonce hive\", tweet)\n",
        "    tweet = re.sub(r\"IDFire\", \"Idaho Fire\", tweet)\n",
        "    tweet = re.sub(r\"DETECTADO\", \"Detected\", tweet)\n",
        "    tweet = re.sub(r\"RockyFire\", \"Rocky Fire\", tweet)\n",
        "    tweet = re.sub(r\"Listen/Buy\", \"Listen / Buy\", tweet)\n",
        "    tweet = re.sub(r\"yycstorm\", \"Calgary Storm\", tweet)\n",
        "    tweet = re.sub(r\"IDPs:\", \"Internally Displaced People :\", tweet)\n",
        "    tweet = re.sub(r\"ArtistsUnited\", \"Artists United\", tweet)\n",
        "    tweet = re.sub(r\"ENGvAUS\", \"England vs Australia\", tweet)\n",
        "    tweet = re.sub(r\"ScottWalker\", \"Scott Walker\", tweet)\n",
        "\n",
        "    \n",
        "    return tweet"
      ],
      "execution_count": null,
      "outputs": []
    },
    {
      "cell_type": "code",
      "metadata": {
        "id": "4pqNK2cOwF_X",
        "colab_type": "code",
        "colab": {}
      },
      "source": [
        "train['message']=train['message'].apply(lambda x: correct_contraction(x))\n",
        "\n",
        "test['message']=test['message'].apply(lambda x: correct_contraction(x))"
      ],
      "execution_count": null,
      "outputs": []
    },
    {
      "cell_type": "code",
      "metadata": {
        "id": "SRVgkpiXwF_f",
        "colab_type": "code",
        "colab": {}
      },
      "source": [
        "# Finds @ mentions in tweets\n",
        "def find_at(text):\n",
        "    line=re.findall(r'(?<=@)\\w+',text)\n",
        "    return \" \".join(line)"
      ],
      "execution_count": null,
      "outputs": []
    },
    {
      "cell_type": "code",
      "metadata": {
        "id": "cRZMxCv7wF_l",
        "colab_type": "code",
        "colab": {}
      },
      "source": [
        "train['mention']=train['message'].apply(lambda x: find_at(x))\n",
        "train['message']=train['message'].apply(lambda x: re.sub(r'(?<=@)\\w+','',x))\n",
        "\n",
        "test['mention']=test['message'].apply(lambda x: find_at(x))\n",
        "test['message']=test['message'].apply(lambda x: re.sub(r'(?<=@)\\w+','',x))"
      ],
      "execution_count": null,
      "outputs": []
    },
    {
      "cell_type": "code",
      "metadata": {
        "id": "d4zoA8MuwF_q",
        "colab_type": "code",
        "colab": {}
      },
      "source": [
        "# Finds hashtags in tweet(#)\n",
        "def find_hash(text):\n",
        "    line=re.findall(r'(?<=#)\\w+',text)\n",
        "    return \" \".join(line)"
      ],
      "execution_count": null,
      "outputs": []
    },
    {
      "cell_type": "code",
      "metadata": {
        "id": "f-vYLSidwF_t",
        "colab_type": "code",
        "colab": {}
      },
      "source": [
        "train['hashtags']=train['message'].apply(lambda x: find_hash(x))\n",
        "train['message']=train['message'].apply(lambda x: re.sub(r'(?<=#)\\w+','',x))\n",
        "\n",
        "test['hashtags']=test['message'].apply(lambda x: find_hash(x))\n",
        "test['message']=test['message'].apply(lambda x: re.sub(r'(?<=#)\\w+','',x))"
      ],
      "execution_count": null,
      "outputs": []
    },
    {
      "cell_type": "code",
      "metadata": {
        "id": "vB_pQ3nqwF_x",
        "colab_type": "code",
        "colab": {}
      },
      "source": [
        "# Finds emoji's in a tweet\n",
        "def find_emoji(text):\n",
        "    emoji_pattern = re.compile(\"[\"\n",
        "                           u\"\\U0001F600-\\U0001F64F\"  # emoticons\n",
        "                           u\"\\U0001F300-\\U0001F5FF\"  # symbols & pictographs\n",
        "                           u\"\\U0001F680-\\U0001F6FF\"  # transport & map symbols\n",
        "                           u\"\\U0001F1E0-\\U0001F1FF\"  # flags (iOS)\n",
        "                           u\"\\U00002702-\\U000027B0\"\n",
        "                           u\"\\U000024C2-\\U0001F251\"\n",
        "                           \"]+\", flags=re.UNICODE)\n",
        "    emo = re.findall(emoji_pattern, text)\n",
        "    return ''.join(emo)"
      ],
      "execution_count": null,
      "outputs": []
    },
    {
      "cell_type": "code",
      "metadata": {
        "id": "40ZHnMWywF_2",
        "colab_type": "code",
        "colab": {}
      },
      "source": [
        "train['emoji']=train['message'].apply(lambda x: find_emoji(x))\n",
        "\n",
        "test['emoji']=test['message'].apply(lambda x: find_emoji(x))"
      ],
      "execution_count": null,
      "outputs": []
    },
    {
      "cell_type": "code",
      "metadata": {
        "id": "kN9qb6bZwF_6",
        "colab_type": "code",
        "colab": {}
      },
      "source": [
        "train['message']=train['message'].apply(lambda x: re.sub(find_emoji(x),'',x))\n",
        "\n",
        "test['message']=test['message'].apply(lambda x: re.sub(find_emoji(x),'',x))"
      ],
      "execution_count": null,
      "outputs": []
    },
    {
      "cell_type": "code",
      "metadata": {
        "id": "w09jnpoZwGAC",
        "colab_type": "code",
        "colab": {},
        "outputId": "b41b966f-9271-4625-e28b-fcfe91ee80b7"
      },
      "source": [
        "train.head()"
      ],
      "execution_count": null,
      "outputs": [
        {
          "output_type": "execute_result",
          "data": {
            "text/html": [
              "<div>\n",
              "<style scoped>\n",
              "    .dataframe tbody tr th:only-of-type {\n",
              "        vertical-align: middle;\n",
              "    }\n",
              "\n",
              "    .dataframe tbody tr th {\n",
              "        vertical-align: top;\n",
              "    }\n",
              "\n",
              "    .dataframe thead th {\n",
              "        text-align: right;\n",
              "    }\n",
              "</style>\n",
              "<table border=\"1\" class=\"dataframe\">\n",
              "  <thead>\n",
              "    <tr style=\"text-align: right;\">\n",
              "      <th></th>\n",
              "      <th>sentiment</th>\n",
              "      <th>message</th>\n",
              "      <th>url</th>\n",
              "      <th>mention</th>\n",
              "      <th>hashtags</th>\n",
              "      <th>emoji</th>\n",
              "    </tr>\n",
              "  </thead>\n",
              "  <tbody>\n",
              "    <tr>\n",
              "      <th>0</th>\n",
              "      <td>1</td>\n",
              "      <td>PolySciMajor EPA chief does not think carbon d...</td>\n",
              "      <td>https://t.co/yeLvcEFXkC</td>\n",
              "      <td>mashable</td>\n",
              "      <td></td>\n",
              "      <td></td>\n",
              "    </tr>\n",
              "    <tr>\n",
              "      <th>1</th>\n",
              "      <td>1</td>\n",
              "      <td>It is not like we lack evidence of anthropogen...</td>\n",
              "      <td></td>\n",
              "      <td></td>\n",
              "      <td></td>\n",
              "      <td></td>\n",
              "    </tr>\n",
              "    <tr>\n",
              "      <th>2</th>\n",
              "      <td>2</td>\n",
              "      <td>RT @: Researchers say we have three years to a...</td>\n",
              "      <td>https://t.co/WdT0KdUr2fhttps://t.co/Z0ANPT</td>\n",
              "      <td>RawStory</td>\n",
              "      <td></td>\n",
              "      <td></td>\n",
              "    </tr>\n",
              "    <tr>\n",
              "      <th>3</th>\n",
              "      <td>1</td>\n",
              "      <td>## WIRED : 2016 was a pivotal year in the war ...</td>\n",
              "      <td>https://t.co/44wOTxTLcD</td>\n",
              "      <td></td>\n",
              "      <td>TodayinMaker</td>\n",
              "      <td></td>\n",
              "    </tr>\n",
              "    <tr>\n",
              "      <th>4</th>\n",
              "      <td>1</td>\n",
              "      <td>RT @: It is 2016, and a racist, sexist, climat...</td>\n",
              "      <td></td>\n",
              "      <td>SoyNovioDeTodas</td>\n",
              "      <td>ElectionNight</td>\n",
              "      <td></td>\n",
              "    </tr>\n",
              "  </tbody>\n",
              "</table>\n",
              "</div>"
            ],
            "text/plain": [
              "   sentiment                                            message  \\\n",
              "0          1  PolySciMajor EPA chief does not think carbon d...   \n",
              "1          1  It is not like we lack evidence of anthropogen...   \n",
              "2          2  RT @: Researchers say we have three years to a...   \n",
              "3          1  ## WIRED : 2016 was a pivotal year in the war ...   \n",
              "4          1  RT @: It is 2016, and a racist, sexist, climat...   \n",
              "\n",
              "                                          url          mention       hashtags  \\\n",
              "0                     https://t.co/yeLvcEFXkC         mashable                  \n",
              "1                                                                               \n",
              "2  https://t.co/WdT0KdUr2fhttps://t.co/Z0ANPT         RawStory                  \n",
              "3                     https://t.co/44wOTxTLcD                    TodayinMaker   \n",
              "4                                              SoyNovioDeTodas  ElectionNight   \n",
              "\n",
              "  emoji  \n",
              "0        \n",
              "1        \n",
              "2        \n",
              "3        \n",
              "4        "
            ]
          },
          "metadata": {
            "tags": []
          },
          "execution_count": 36
        }
      ]
    },
    {
      "cell_type": "code",
      "metadata": {
        "id": "7tJpuh28wGAM",
        "colab_type": "code",
        "colab": {},
        "outputId": "c97bff3d-2f5f-4abd-a86d-e9b8645c487a"
      },
      "source": [
        "test.head()"
      ],
      "execution_count": null,
      "outputs": [
        {
          "output_type": "execute_result",
          "data": {
            "text/html": [
              "<div>\n",
              "<style scoped>\n",
              "    .dataframe tbody tr th:only-of-type {\n",
              "        vertical-align: middle;\n",
              "    }\n",
              "\n",
              "    .dataframe tbody tr th {\n",
              "        vertical-align: top;\n",
              "    }\n",
              "\n",
              "    .dataframe thead th {\n",
              "        text-align: right;\n",
              "    }\n",
              "</style>\n",
              "<table border=\"1\" class=\"dataframe\">\n",
              "  <thead>\n",
              "    <tr style=\"text-align: right;\">\n",
              "      <th></th>\n",
              "      <th>message</th>\n",
              "      <th>url</th>\n",
              "      <th>mention</th>\n",
              "      <th>hashtags</th>\n",
              "      <th>emoji</th>\n",
              "    </tr>\n",
              "    <tr>\n",
              "      <th>tweetid</th>\n",
              "      <th></th>\n",
              "      <th></th>\n",
              "      <th></th>\n",
              "      <th></th>\n",
              "      <th></th>\n",
              "    </tr>\n",
              "  </thead>\n",
              "  <tbody>\n",
              "    <tr>\n",
              "      <th>169760</th>\n",
              "      <td>Europe will now be looking to China to make su...</td>\n",
              "      <td>https://t.co/O7T8rCgwDq</td>\n",
              "      <td></td>\n",
              "      <td></td>\n",
              "      <td></td>\n",
              "    </tr>\n",
              "    <tr>\n",
              "      <th>35326</th>\n",
              "      <td>Combine this with the polling of staffers re c...</td>\n",
              "      <td>https://t.co/ifrm7eexpj</td>\n",
              "      <td></td>\n",
              "      <td></td>\n",
              "      <td></td>\n",
              "    </tr>\n",
              "    <tr>\n",
              "      <th>224985</th>\n",
              "      <td>The scary, unimpeachable evidence that climate...</td>\n",
              "      <td>https://t.co/yAedqcV9Ki</td>\n",
              "      <td>ZEROCO2_</td>\n",
              "      <td>itstimetochange climatechange</td>\n",
              "      <td></td>\n",
              "    </tr>\n",
              "    <tr>\n",
              "      <th>476263</th>\n",
              "      <td>@ @ @ @ \\nPutin got to you too Jill ! \\nTrump ...</td>\n",
              "      <td></td>\n",
              "      <td>Karoli morgfair OsborneInk dailykos</td>\n",
              "      <td></td>\n",
              "      <td></td>\n",
              "    </tr>\n",
              "    <tr>\n",
              "      <th>872928</th>\n",
              "      <td>RT @: 'Female orgasms cause global warming!'\\n...</td>\n",
              "      <td></td>\n",
              "      <td>FakeWillMoore</td>\n",
              "      <td></td>\n",
              "      <td></td>\n",
              "    </tr>\n",
              "  </tbody>\n",
              "</table>\n",
              "</div>"
            ],
            "text/plain": [
              "                                                   message  \\\n",
              "tweetid                                                      \n",
              "169760   Europe will now be looking to China to make su...   \n",
              "35326    Combine this with the polling of staffers re c...   \n",
              "224985   The scary, unimpeachable evidence that climate...   \n",
              "476263   @ @ @ @ \\nPutin got to you too Jill ! \\nTrump ...   \n",
              "872928   RT @: 'Female orgasms cause global warming!'\\n...   \n",
              "\n",
              "                             url                              mention  \\\n",
              "tweetid                                                                 \n",
              "169760   https://t.co/O7T8rCgwDq                                        \n",
              "35326    https://t.co/ifrm7eexpj                                        \n",
              "224985   https://t.co/yAedqcV9Ki                             ZEROCO2_   \n",
              "476263                            Karoli morgfair OsborneInk dailykos   \n",
              "872928                                                  FakeWillMoore   \n",
              "\n",
              "                              hashtags emoji  \n",
              "tweetid                                       \n",
              "169760                                        \n",
              "35326                                         \n",
              "224985   itstimetochange climatechange        \n",
              "476263                                        \n",
              "872928                                        "
            ]
          },
          "metadata": {
            "tags": []
          },
          "execution_count": 37
        }
      ]
    },
    {
      "cell_type": "markdown",
      "metadata": {
        "id": "OKAiJMLXwGAS",
        "colab_type": "text"
      },
      "source": [
        "From this we observe that the classses are unbalnced and we also observe that the Pro Class has the highest count and is about 2x the second highest class. We expect that this this class will be the most correctly classified out of all other classes."
      ]
    },
    {
      "cell_type": "markdown",
      "metadata": {
        "id": "OdhmWWMWwGAT",
        "colab_type": "text"
      },
      "source": [
        "___"
      ]
    },
    {
      "cell_type": "markdown",
      "metadata": {
        "id": "EuOUdj4PwGAU",
        "colab_type": "text"
      },
      "source": [
        "## <font color=blue>Model Building"
      ]
    },
    {
      "cell_type": "markdown",
      "metadata": {
        "id": "VDHbmLGNwGAW",
        "colab_type": "text"
      },
      "source": [
        "### <font color=blue>Library Imports for model building"
      ]
    },
    {
      "cell_type": "code",
      "metadata": {
        "id": "ETWoDr3RwGAX",
        "colab_type": "code",
        "colab": {}
      },
      "source": [
        "from sklearn.model_selection import train_test_split\n",
        "from sklearn.feature_extraction.text import TfidfVectorizer\n",
        "from sklearn.svm import LinearSVC\n",
        "from sklearn.pipeline import Pipeline\n",
        "from sklearn.metrics import confusion_matrix,classification_report,accuracy_score\n",
        "from sklearn.ensemble import RandomForestClassifier\n",
        "from sklearn.model_selection import RandomizedSearchCV\n",
        "from sklearn.neighbors import KNeighborsClassifier\n",
        "import pickle"
      ],
      "execution_count": null,
      "outputs": []
    },
    {
      "cell_type": "code",
      "metadata": {
        "id": "IoOzZJg4wGAb",
        "colab_type": "code",
        "colab": {}
      },
      "source": [
        "X = train['message']\n",
        "y = train.sentiment.values"
      ],
      "execution_count": null,
      "outputs": []
    },
    {
      "cell_type": "code",
      "metadata": {
        "id": "t3A_CTZRwGAl",
        "colab_type": "code",
        "colab": {}
      },
      "source": [
        "# Splitting train dataset into train subset(for training model) and validation subset(for model evaluation)\n",
        "X_train, X_test, y_train, y_test = train_test_split(X,y,test_size=0.25,random_state=0)"
      ],
      "execution_count": null,
      "outputs": []
    },
    {
      "cell_type": "code",
      "metadata": {
        "id": "_5qU7a9NwGA0",
        "colab_type": "code",
        "colab": {}
      },
      "source": [
        "vectorizer = TfidfVectorizer()\n",
        "X_vec = vectorizer.fit_transform(X_train)"
      ],
      "execution_count": null,
      "outputs": []
    },
    {
      "cell_type": "markdown",
      "metadata": {
        "id": "fgurSOR9wGBC",
        "colab_type": "text"
      },
      "source": [
        "### <font color=blue>Linear Support Vector Classifier"
      ]
    },
    {
      "cell_type": "markdown",
      "metadata": {
        "id": "8XY90oLWwGBF",
        "colab_type": "text"
      },
      "source": [
        "#### <font color=blue>Training LinearSVC"
      ]
    },
    {
      "cell_type": "code",
      "metadata": {
        "id": "I_yJcrGEwGBH",
        "colab_type": "code",
        "colab": {}
      },
      "source": [
        "# A Pipeline that first imploys tokenazation and vectorization and then trains model using Linear-SVC using train data.\n",
        "cl_pipe = Pipeline([('vectorizer', TfidfVectorizer()),\n",
        "                     ('linearS', LinearSVC()),])\n"
      ],
      "execution_count": null,
      "outputs": []
    },
    {
      "cell_type": "code",
      "metadata": {
        "id": "7VSlArShwGBS",
        "colab_type": "code",
        "colab": {}
      },
      "source": [
        "# Fitting/training model\n",
        "cl_pipe.fit(X_train, y_train) "
      ],
      "execution_count": null,
      "outputs": []
    },
    {
      "cell_type": "markdown",
      "metadata": {
        "id": "OKO1ZxGrwGBf",
        "colab_type": "text"
      },
      "source": [
        "#### <font color=blue>Accessing LinearSVC Acurracy"
      ]
    },
    {
      "cell_type": "code",
      "metadata": {
        "id": "Kl2-l_EvwGBh",
        "colab_type": "code",
        "colab": {}
      },
      "source": [
        "# Predicting test subset of validation data\n",
        "y_pred = cl_pipe.predict(X_test)"
      ],
      "execution_count": null,
      "outputs": []
    },
    {
      "cell_type": "code",
      "metadata": {
        "id": "_hjhy-_YwGBs",
        "colab_type": "code",
        "colab": {},
        "outputId": "7d29bfb0-8b3b-421f-83fd-db51c9b36f4c"
      },
      "source": [
        "# LinearSVC confusion matrix\n",
        "LSVC_confusion = pd.DataFrame(confusion_matrix(y_test,y_pred),\n",
        "                  index=['Anti','Neutral','Pro','News'],\n",
        "                  columns=['Anti','Neutral','Pro','News'])\n",
        "\n",
        "LSVC_confusion"
      ],
      "execution_count": null,
      "outputs": [
        {
          "output_type": "execute_result",
          "data": {
            "text/html": [
              "<div>\n",
              "<style scoped>\n",
              "    .dataframe tbody tr th:only-of-type {\n",
              "        vertical-align: middle;\n",
              "    }\n",
              "\n",
              "    .dataframe tbody tr th {\n",
              "        vertical-align: top;\n",
              "    }\n",
              "\n",
              "    .dataframe thead th {\n",
              "        text-align: right;\n",
              "    }\n",
              "</style>\n",
              "<table border=\"1\" class=\"dataframe\">\n",
              "  <thead>\n",
              "    <tr style=\"text-align: right;\">\n",
              "      <th></th>\n",
              "      <th>Anti</th>\n",
              "      <th>Neutral</th>\n",
              "      <th>Pro</th>\n",
              "      <th>News</th>\n",
              "    </tr>\n",
              "  </thead>\n",
              "  <tbody>\n",
              "    <tr>\n",
              "      <th>Anti</th>\n",
              "      <td>130</td>\n",
              "      <td>48</td>\n",
              "      <td>129</td>\n",
              "      <td>17</td>\n",
              "    </tr>\n",
              "    <tr>\n",
              "      <th>Neutral</th>\n",
              "      <td>36</td>\n",
              "      <td>221</td>\n",
              "      <td>257</td>\n",
              "      <td>37</td>\n",
              "    </tr>\n",
              "    <tr>\n",
              "      <th>Pro</th>\n",
              "      <td>27</td>\n",
              "      <td>109</td>\n",
              "      <td>1687</td>\n",
              "      <td>198</td>\n",
              "    </tr>\n",
              "    <tr>\n",
              "      <th>News</th>\n",
              "      <td>7</td>\n",
              "      <td>26</td>\n",
              "      <td>179</td>\n",
              "      <td>674</td>\n",
              "    </tr>\n",
              "  </tbody>\n",
              "</table>\n",
              "</div>"
            ],
            "text/plain": [
              "         Anti  Neutral   Pro  News\n",
              "Anti      130       48   129    17\n",
              "Neutral    36      221   257    37\n",
              "Pro        27      109  1687   198\n",
              "News        7       26   179   674"
            ]
          },
          "metadata": {
            "tags": []
          },
          "execution_count": 67
        }
      ]
    },
    {
      "cell_type": "code",
      "metadata": {
        "id": "fPHMJVAowGB3",
        "colab_type": "code",
        "colab": {},
        "outputId": "53551fe5-ff93-48fd-b1e9-c995dc4f0426"
      },
      "source": [
        "# Classification Report matrix \n",
        "print(classification_report(y_test,y_pred))"
      ],
      "execution_count": null,
      "outputs": [
        {
          "output_type": "stream",
          "text": [
            "              precision    recall  f1-score   support\n",
            "\n",
            "          -1       0.65      0.40      0.50       324\n",
            "           0       0.55      0.40      0.46       551\n",
            "           1       0.75      0.83      0.79      2021\n",
            "           2       0.73      0.76      0.74       886\n",
            "\n",
            "    accuracy                           0.72      3782\n",
            "   macro avg       0.67      0.60      0.62      3782\n",
            "weighted avg       0.71      0.72      0.71      3782\n",
            "\n"
          ],
          "name": "stdout"
        }
      ]
    },
    {
      "cell_type": "markdown",
      "metadata": {
        "id": "9ybx-WbswGCE",
        "colab_type": "text"
      },
      "source": [
        "The important metric to note is the f1-score (macro avg) since its the\n",
        "metric used on kaggle for scoring. The score obtained on the notebook will\n",
        "not be the same as the one to be obtained on kaggle.The score on the notebook is helpful on gauging \n",
        "your margins and comparing different models on the notebook."
      ]
    },
    {
      "cell_type": "markdown",
      "metadata": {
        "id": "Q8Jc8JFjwGCE",
        "colab_type": "text"
      },
      "source": [
        "#### <font color=blue>Predictions on test dataset  using LinearSVC"
      ]
    },
    {
      "cell_type": "code",
      "metadata": {
        "id": "jex3bv6QwGCG",
        "colab_type": "code",
        "colab": {}
      },
      "source": [
        "y_pred_test = cl_pipe.predict(test.message)"
      ],
      "execution_count": null,
      "outputs": []
    },
    {
      "cell_type": "code",
      "metadata": {
        "id": "IOjUhrd5wGCO",
        "colab_type": "code",
        "colab": {},
        "outputId": "fe2f0ae7-c656-4ae8-dd8a-aff0d9825997"
      },
      "source": [
        "y_pred_test"
      ],
      "execution_count": null,
      "outputs": [
        {
          "output_type": "execute_result",
          "data": {
            "text/plain": [
              "array([1, 1, 1, ..., 2, 0, 1], dtype=int64)"
            ]
          },
          "metadata": {
            "tags": []
          },
          "execution_count": 70
        }
      ]
    },
    {
      "cell_type": "code",
      "metadata": {
        "id": "QzmQm0nswGCV",
        "colab_type": "code",
        "colab": {}
      },
      "source": [
        "# Predictions in submission kaggle format\n",
        "linearSVC_submission1 = pd.DataFrame({'tweetid': test.index, \n",
        "                           'sentiment': y_pred_test})"
      ],
      "execution_count": null,
      "outputs": []
    },
    {
      "cell_type": "code",
      "metadata": {
        "id": "fFGk3w3hwGCa",
        "colab_type": "code",
        "colab": {},
        "outputId": "32c36761-cee5-44fe-9bd1-6e9c833876ea"
      },
      "source": [
        "linearSVC_submission1"
      ],
      "execution_count": null,
      "outputs": [
        {
          "output_type": "execute_result",
          "data": {
            "text/html": [
              "<div>\n",
              "<style scoped>\n",
              "    .dataframe tbody tr th:only-of-type {\n",
              "        vertical-align: middle;\n",
              "    }\n",
              "\n",
              "    .dataframe tbody tr th {\n",
              "        vertical-align: top;\n",
              "    }\n",
              "\n",
              "    .dataframe thead th {\n",
              "        text-align: right;\n",
              "    }\n",
              "</style>\n",
              "<table border=\"1\" class=\"dataframe\">\n",
              "  <thead>\n",
              "    <tr style=\"text-align: right;\">\n",
              "      <th></th>\n",
              "      <th>tweetid</th>\n",
              "      <th>sentiment</th>\n",
              "    </tr>\n",
              "  </thead>\n",
              "  <tbody>\n",
              "    <tr>\n",
              "      <th>0</th>\n",
              "      <td>169760</td>\n",
              "      <td>1</td>\n",
              "    </tr>\n",
              "    <tr>\n",
              "      <th>1</th>\n",
              "      <td>35326</td>\n",
              "      <td>1</td>\n",
              "    </tr>\n",
              "    <tr>\n",
              "      <th>2</th>\n",
              "      <td>224985</td>\n",
              "      <td>1</td>\n",
              "    </tr>\n",
              "    <tr>\n",
              "      <th>3</th>\n",
              "      <td>476263</td>\n",
              "      <td>0</td>\n",
              "    </tr>\n",
              "    <tr>\n",
              "      <th>4</th>\n",
              "      <td>872928</td>\n",
              "      <td>1</td>\n",
              "    </tr>\n",
              "    <tr>\n",
              "      <th>...</th>\n",
              "      <td>...</td>\n",
              "      <td>...</td>\n",
              "    </tr>\n",
              "    <tr>\n",
              "      <th>10541</th>\n",
              "      <td>895714</td>\n",
              "      <td>0</td>\n",
              "    </tr>\n",
              "    <tr>\n",
              "      <th>10542</th>\n",
              "      <td>875167</td>\n",
              "      <td>1</td>\n",
              "    </tr>\n",
              "    <tr>\n",
              "      <th>10543</th>\n",
              "      <td>78329</td>\n",
              "      <td>2</td>\n",
              "    </tr>\n",
              "    <tr>\n",
              "      <th>10544</th>\n",
              "      <td>867455</td>\n",
              "      <td>0</td>\n",
              "    </tr>\n",
              "    <tr>\n",
              "      <th>10545</th>\n",
              "      <td>470892</td>\n",
              "      <td>1</td>\n",
              "    </tr>\n",
              "  </tbody>\n",
              "</table>\n",
              "<p>10546 rows × 2 columns</p>\n",
              "</div>"
            ],
            "text/plain": [
              "       tweetid  sentiment\n",
              "0       169760          1\n",
              "1        35326          1\n",
              "2       224985          1\n",
              "3       476263          0\n",
              "4       872928          1\n",
              "...        ...        ...\n",
              "10541   895714          0\n",
              "10542   875167          1\n",
              "10543    78329          2\n",
              "10544   867455          0\n",
              "10545   470892          1\n",
              "\n",
              "[10546 rows x 2 columns]"
            ]
          },
          "metadata": {
            "tags": []
          },
          "execution_count": 72
        }
      ]
    },
    {
      "cell_type": "code",
      "metadata": {
        "id": "HdmW8KX3wGCf",
        "colab_type": "code",
        "colab": {}
      },
      "source": [
        "# Saving to .csv file\n",
        "linearSVC_submission1.to_csv('LSVC_01.csv',index = False)"
      ],
      "execution_count": null,
      "outputs": []
    },
    {
      "cell_type": "markdown",
      "metadata": {
        "id": "mIC4OqjmwGCo",
        "colab_type": "text"
      },
      "source": [
        "#### <font color=blue>Save Model"
      ]
    },
    {
      "cell_type": "code",
      "metadata": {
        "id": "2Y6V3AyGwGCp",
        "colab_type": "code",
        "colab": {}
      },
      "source": [
        "import pickle\n",
        "\n",
        "# Saving the entire pipeline.\n",
        "# Saving the pipeline in the same name as the submission file helps keep track of everything.\n",
        "\n",
        "model_save_path = \"LSVC_01.pkl\"\n",
        "with open(model_save_path,'wb') as file:\n",
        "    pickle.dump(cl_pipe,file)"
      ],
      "execution_count": null,
      "outputs": []
    },
    {
      "cell_type": "markdown",
      "metadata": {
        "id": "9tXBWNklwGCw",
        "colab_type": "text"
      },
      "source": [
        "### <font color=blue>K-Nearest Neighbors Classifier"
      ]
    },
    {
      "cell_type": "markdown",
      "metadata": {
        "id": "9ju2xHl4wGCx",
        "colab_type": "text"
      },
      "source": [
        "#### <font color=blue>Training KNN Classifier"
      ]
    },
    {
      "cell_type": "code",
      "metadata": {
        "id": "bW6_HwJXwGCx",
        "colab_type": "code",
        "colab": {}
      },
      "source": [
        "# Instantiate KNN model\n",
        "KNN = KNeighborsClassifier(n_neighbors=10)"
      ],
      "execution_count": null,
      "outputs": []
    },
    {
      "cell_type": "code",
      "metadata": {
        "id": "atvrjUF8wGC2",
        "colab_type": "code",
        "colab": {}
      },
      "source": [
        "# KNN pipeline\n",
        "KNN_pipe = Pipeline([('vectorizer', TfidfVectorizer()),('KNN',KNN)])"
      ],
      "execution_count": null,
      "outputs": []
    },
    {
      "cell_type": "code",
      "metadata": {
        "id": "OkGaIogxwGDA",
        "colab_type": "code",
        "colab": {},
        "outputId": "d615a5e4-c2d4-4bcb-95ab-edf37a460ed4"
      },
      "source": [
        "# Fitting/Training KNN model\n",
        "KNN_pipe.fit(X_train,y_train.ravel())"
      ],
      "execution_count": null,
      "outputs": [
        {
          "output_type": "execute_result",
          "data": {
            "text/plain": [
              "Pipeline(steps=[('vectorizer', TfidfVectorizer()),\n",
              "                ('KNN', KNeighborsClassifier(n_neighbors=10))])"
            ]
          },
          "metadata": {
            "tags": []
          },
          "execution_count": 77
        }
      ]
    },
    {
      "cell_type": "markdown",
      "metadata": {
        "id": "vziyEGyjwGDJ",
        "colab_type": "text"
      },
      "source": [
        "#### <font color=blue>Accessing KNN accuracy"
      ]
    },
    {
      "cell_type": "code",
      "metadata": {
        "id": "XkPyGuJRwGDK",
        "colab_type": "code",
        "colab": {}
      },
      "source": [
        "# Predicting validation subset\n",
        "y_pred_KNN = KNN_pipe.predict(X_test)"
      ],
      "execution_count": null,
      "outputs": []
    },
    {
      "cell_type": "code",
      "metadata": {
        "id": "no8bPp9VwGDO",
        "colab_type": "code",
        "colab": {},
        "outputId": "a6fd133d-02ef-4f33-f2aa-6a891293a5f8"
      },
      "source": [
        "# KNN confusion matrix\n",
        "KNN_confusion = pd.DataFrame(confusion_matrix(y_test,y_pred_KNN),\n",
        "                  index=['Anti','Neutral','Pro','News'],\n",
        "                  columns=['Anti','Neutral','Pro','News'])\n",
        "\n",
        "KNN_confusion"
      ],
      "execution_count": null,
      "outputs": [
        {
          "output_type": "execute_result",
          "data": {
            "text/html": [
              "<div>\n",
              "<style scoped>\n",
              "    .dataframe tbody tr th:only-of-type {\n",
              "        vertical-align: middle;\n",
              "    }\n",
              "\n",
              "    .dataframe tbody tr th {\n",
              "        vertical-align: top;\n",
              "    }\n",
              "\n",
              "    .dataframe thead th {\n",
              "        text-align: right;\n",
              "    }\n",
              "</style>\n",
              "<table border=\"1\" class=\"dataframe\">\n",
              "  <thead>\n",
              "    <tr style=\"text-align: right;\">\n",
              "      <th></th>\n",
              "      <th>Anti</th>\n",
              "      <th>Neutral</th>\n",
              "      <th>Pro</th>\n",
              "      <th>News</th>\n",
              "    </tr>\n",
              "  </thead>\n",
              "  <tbody>\n",
              "    <tr>\n",
              "      <th>Anti</th>\n",
              "      <td>98</td>\n",
              "      <td>40</td>\n",
              "      <td>154</td>\n",
              "      <td>32</td>\n",
              "    </tr>\n",
              "    <tr>\n",
              "      <th>Neutral</th>\n",
              "      <td>23</td>\n",
              "      <td>197</td>\n",
              "      <td>296</td>\n",
              "      <td>35</td>\n",
              "    </tr>\n",
              "    <tr>\n",
              "      <th>Pro</th>\n",
              "      <td>31</td>\n",
              "      <td>121</td>\n",
              "      <td>1661</td>\n",
              "      <td>208</td>\n",
              "    </tr>\n",
              "    <tr>\n",
              "      <th>News</th>\n",
              "      <td>10</td>\n",
              "      <td>32</td>\n",
              "      <td>290</td>\n",
              "      <td>554</td>\n",
              "    </tr>\n",
              "  </tbody>\n",
              "</table>\n",
              "</div>"
            ],
            "text/plain": [
              "         Anti  Neutral   Pro  News\n",
              "Anti       98       40   154    32\n",
              "Neutral    23      197   296    35\n",
              "Pro        31      121  1661   208\n",
              "News       10       32   290   554"
            ]
          },
          "metadata": {
            "tags": []
          },
          "execution_count": 79
        }
      ]
    },
    {
      "cell_type": "code",
      "metadata": {
        "id": "Kf2BAFuywGDS",
        "colab_type": "code",
        "colab": {},
        "outputId": "d8dbcbfe-5d32-463c-93d6-13e9a80de1b9"
      },
      "source": [
        "# Classification report matrix\n",
        "print(classification_report(y_test,y_pred_KNN))"
      ],
      "execution_count": null,
      "outputs": [
        {
          "output_type": "stream",
          "text": [
            "              precision    recall  f1-score   support\n",
            "\n",
            "          -1       0.60      0.30      0.40       324\n",
            "           0       0.51      0.36      0.42       551\n",
            "           1       0.69      0.82      0.75      2021\n",
            "           2       0.67      0.63      0.65       886\n",
            "\n",
            "    accuracy                           0.66      3782\n",
            "   macro avg       0.62      0.53      0.55      3782\n",
            "weighted avg       0.65      0.66      0.65      3782\n",
            "\n"
          ],
          "name": "stdout"
        }
      ]
    },
    {
      "cell_type": "markdown",
      "metadata": {
        "id": "TBNLbWlmwGDb",
        "colab_type": "text"
      },
      "source": [
        "#### <font color=blue>Predictions on test dataset using KNN"
      ]
    },
    {
      "cell_type": "code",
      "metadata": {
        "id": "sn9r7u-cwGDc",
        "colab_type": "code",
        "colab": {}
      },
      "source": [
        "y_KNN = KNN_pipe.predict(test.message)"
      ],
      "execution_count": null,
      "outputs": []
    },
    {
      "cell_type": "code",
      "metadata": {
        "id": "-Bp6gCuuwGDk",
        "colab_type": "code",
        "colab": {},
        "outputId": "61927930-c4b7-4e88-b725-a2333ca08ccd"
      },
      "source": [
        "y_KNN"
      ],
      "execution_count": null,
      "outputs": [
        {
          "output_type": "execute_result",
          "data": {
            "text/plain": [
              "array([1, 1, 1, ..., 2, 0, 1], dtype=int64)"
            ]
          },
          "metadata": {
            "tags": []
          },
          "execution_count": 84
        }
      ]
    },
    {
      "cell_type": "code",
      "metadata": {
        "id": "VgZZVmPfwGDo",
        "colab_type": "code",
        "colab": {},
        "outputId": "03226240-1933-4790-fa76-8301296edcb2"
      },
      "source": [
        "# Predictions in submission kaggle format\n",
        "KNN_submission1 = pd.DataFrame({'tweetid': test.index, \n",
        "                           'sentiment': y_KNN})\n",
        "\n",
        "KNN_submission1"
      ],
      "execution_count": null,
      "outputs": [
        {
          "output_type": "execute_result",
          "data": {
            "text/html": [
              "<div>\n",
              "<style scoped>\n",
              "    .dataframe tbody tr th:only-of-type {\n",
              "        vertical-align: middle;\n",
              "    }\n",
              "\n",
              "    .dataframe tbody tr th {\n",
              "        vertical-align: top;\n",
              "    }\n",
              "\n",
              "    .dataframe thead th {\n",
              "        text-align: right;\n",
              "    }\n",
              "</style>\n",
              "<table border=\"1\" class=\"dataframe\">\n",
              "  <thead>\n",
              "    <tr style=\"text-align: right;\">\n",
              "      <th></th>\n",
              "      <th>tweetid</th>\n",
              "      <th>sentiment</th>\n",
              "    </tr>\n",
              "  </thead>\n",
              "  <tbody>\n",
              "    <tr>\n",
              "      <th>0</th>\n",
              "      <td>169760</td>\n",
              "      <td>1</td>\n",
              "    </tr>\n",
              "    <tr>\n",
              "      <th>1</th>\n",
              "      <td>35326</td>\n",
              "      <td>1</td>\n",
              "    </tr>\n",
              "    <tr>\n",
              "      <th>2</th>\n",
              "      <td>224985</td>\n",
              "      <td>1</td>\n",
              "    </tr>\n",
              "    <tr>\n",
              "      <th>3</th>\n",
              "      <td>476263</td>\n",
              "      <td>1</td>\n",
              "    </tr>\n",
              "    <tr>\n",
              "      <th>4</th>\n",
              "      <td>872928</td>\n",
              "      <td>0</td>\n",
              "    </tr>\n",
              "    <tr>\n",
              "      <th>...</th>\n",
              "      <td>...</td>\n",
              "      <td>...</td>\n",
              "    </tr>\n",
              "    <tr>\n",
              "      <th>10541</th>\n",
              "      <td>895714</td>\n",
              "      <td>0</td>\n",
              "    </tr>\n",
              "    <tr>\n",
              "      <th>10542</th>\n",
              "      <td>875167</td>\n",
              "      <td>1</td>\n",
              "    </tr>\n",
              "    <tr>\n",
              "      <th>10543</th>\n",
              "      <td>78329</td>\n",
              "      <td>2</td>\n",
              "    </tr>\n",
              "    <tr>\n",
              "      <th>10544</th>\n",
              "      <td>867455</td>\n",
              "      <td>0</td>\n",
              "    </tr>\n",
              "    <tr>\n",
              "      <th>10545</th>\n",
              "      <td>470892</td>\n",
              "      <td>1</td>\n",
              "    </tr>\n",
              "  </tbody>\n",
              "</table>\n",
              "<p>10546 rows × 2 columns</p>\n",
              "</div>"
            ],
            "text/plain": [
              "       tweetid  sentiment\n",
              "0       169760          1\n",
              "1        35326          1\n",
              "2       224985          1\n",
              "3       476263          1\n",
              "4       872928          0\n",
              "...        ...        ...\n",
              "10541   895714          0\n",
              "10542   875167          1\n",
              "10543    78329          2\n",
              "10544   867455          0\n",
              "10545   470892          1\n",
              "\n",
              "[10546 rows x 2 columns]"
            ]
          },
          "metadata": {
            "tags": []
          },
          "execution_count": 85
        }
      ]
    },
    {
      "cell_type": "code",
      "metadata": {
        "id": "P9_n2VpKwGDt",
        "colab_type": "code",
        "colab": {}
      },
      "source": [
        "# Saving to .csv file\n",
        "KNN_submission1.to_csv('KNN_01.csv',index = False)"
      ],
      "execution_count": null,
      "outputs": []
    },
    {
      "cell_type": "markdown",
      "metadata": {
        "id": "su3T02g1wGDx",
        "colab_type": "text"
      },
      "source": [
        "#### <font color=blue>Save Model"
      ]
    },
    {
      "cell_type": "code",
      "metadata": {
        "id": "_jFvh7UQwGDy",
        "colab_type": "code",
        "colab": {}
      },
      "source": [
        "model_save_path = 'KNN_01.pkl'\n",
        "with open(model_save_path,'wb') as file:\n",
        "    pickle.dump(KNN_pipe,file)"
      ],
      "execution_count": null,
      "outputs": []
    },
    {
      "cell_type": "markdown",
      "metadata": {
        "id": "AVVELX2GwGD4",
        "colab_type": "text"
      },
      "source": [
        "### <font color=blue>Random forest Classifier"
      ]
    },
    {
      "cell_type": "markdown",
      "metadata": {
        "id": "cfzeIE1_wGD5",
        "colab_type": "text"
      },
      "source": [
        "#### <font color=blue>Training Random forest Classifier"
      ]
    },
    {
      "cell_type": "code",
      "metadata": {
        "id": "fe21QhQhwGD6",
        "colab_type": "code",
        "colab": {}
      },
      "source": [
        "# Instantiating Random forest Classifier\n",
        "RFC = RandomForestClassifier(n_estimators=100)"
      ],
      "execution_count": null,
      "outputs": []
    },
    {
      "cell_type": "code",
      "metadata": {
        "id": "wlRXnvdnwGD_",
        "colab_type": "code",
        "colab": {}
      },
      "source": [
        "# Random forest pipeline\n",
        "RFC_pipe = Pipeline([('vectorizer', TfidfVectorizer()),\n",
        "                     ('RFC',RFC)])"
      ],
      "execution_count": null,
      "outputs": []
    },
    {
      "cell_type": "code",
      "metadata": {
        "id": "K4-1LrHRwGEC",
        "colab_type": "code",
        "colab": {},
        "outputId": "ecd49edf-6307-49ed-8b8c-40fa5f9c21df"
      },
      "source": [
        "# Fitting/Training model\n",
        "RFC_pipe.fit(X_train,y_train.ravel())"
      ],
      "execution_count": null,
      "outputs": [
        {
          "output_type": "execute_result",
          "data": {
            "text/plain": [
              "Pipeline(steps=[('vectorizer', TfidfVectorizer()),\n",
              "                ('RFC', RandomForestClassifier())])"
            ]
          },
          "metadata": {
            "tags": []
          },
          "execution_count": 90
        }
      ]
    },
    {
      "cell_type": "markdown",
      "metadata": {
        "id": "K2bRIELnwGEF",
        "colab_type": "text"
      },
      "source": [
        "#### <font color=blue>Accessing RFC accuracy"
      ]
    },
    {
      "cell_type": "code",
      "metadata": {
        "id": "tYGXo4FFwGEF",
        "colab_type": "code",
        "colab": {}
      },
      "source": [
        "# Predicting validation subset\n",
        "y_pred_RFC = RFC_pipe.predict(X_test)"
      ],
      "execution_count": null,
      "outputs": []
    },
    {
      "cell_type": "code",
      "metadata": {
        "id": "uFiZvkHWwGEI",
        "colab_type": "code",
        "colab": {}
      },
      "source": [
        "# RFC Confusion matrix\n",
        "RFC_confusion = pd.DataFrame(confusion_matrix(y_test,y_pred_RFC),\n",
        "                  index=['Anti','Neutral','Pro','News'],\n",
        "                  columns=['Anti','Neutral','Pro','News'])"
      ],
      "execution_count": null,
      "outputs": []
    },
    {
      "cell_type": "code",
      "metadata": {
        "id": "32p9x9vHwGEK",
        "colab_type": "code",
        "colab": {},
        "outputId": "91515f3a-6b47-4972-ad02-6e635292d2ab"
      },
      "source": [
        "# Classification report matrix\n",
        "print(classification_report(y_test,y_pred_RFC))"
      ],
      "execution_count": null,
      "outputs": [
        {
          "output_type": "stream",
          "text": [
            "              precision    recall  f1-score   support\n",
            "\n",
            "          -1       0.94      0.15      0.26       324\n",
            "           0       0.64      0.26      0.37       551\n",
            "           1       0.67      0.91      0.77      2021\n",
            "           2       0.79      0.68      0.73       886\n",
            "\n",
            "    accuracy                           0.70      3782\n",
            "   macro avg       0.76      0.50      0.53      3782\n",
            "weighted avg       0.72      0.70      0.66      3782\n",
            "\n"
          ],
          "name": "stdout"
        }
      ]
    },
    {
      "cell_type": "markdown",
      "metadata": {
        "id": "q9wWFRVRwGEQ",
        "colab_type": "text"
      },
      "source": [
        "#### <font color=blue>Hyperparameter Tunning for RFC"
      ]
    },
    {
      "cell_type": "code",
      "metadata": {
        "id": "qa_So3z0wGER",
        "colab_type": "code",
        "colab": {}
      },
      "source": [
        "# Selecting Parameter to tune\n",
        "\n",
        "n_estimators = [int(x) for x in np.linspace(start=200, stop=2000, num=10)]\n",
        "max_features = ['auto', 'sqrt']\n",
        "max_depth = [int(x) for x in np.linspace(10, 110, num=11)]\n",
        "max_depth.append(None)\n",
        "min_samples_split = [2, 5, 10]\n",
        "min_samples_leaf = [1, 2, 4]\n",
        "bootstrap = [True, False]\n",
        "random_state = list(range(0,43))\n",
        "\n",
        "random_grid = {'n_estimators': n_estimators,\n",
        "               'max_features': max_features,\n",
        "               'max_depth': max_depth,\n",
        "               'min_samples_split': min_samples_split,\n",
        "               'min_samples_leaf': min_samples_leaf,\n",
        "               'bootstrap': bootstrap,\n",
        "               'random_state':random_state}"
      ],
      "execution_count": null,
      "outputs": []
    },
    {
      "cell_type": "code",
      "metadata": {
        "id": "_UXI3ZPrwGEV",
        "colab_type": "code",
        "colab": {}
      },
      "source": [
        "# Re-instantiate Random Classifier for tunning\n",
        "rfc = RandomForestClassifier()"
      ],
      "execution_count": null,
      "outputs": []
    },
    {
      "cell_type": "code",
      "metadata": {
        "id": "EMZpcpPXwGEc",
        "colab_type": "code",
        "colab": {}
      },
      "source": [
        "# Instantiate Random Search\n",
        "RFC_Random = RandomizedSearchCV(estimator=rfc, \n",
        "                               param_distributions=random_grid,\n",
        "                               n_iter=5, cv=5, verbose=2, random_state=42)"
      ],
      "execution_count": null,
      "outputs": []
    },
    {
      "cell_type": "markdown",
      "metadata": {
        "id": "HUuI2g7rwGEl",
        "colab_type": "text"
      },
      "source": [
        "Before we do Random Search on the RFC model we need to vectorize our Predictor variable since we are doing a randomized grid search on the RFC model and not on it's pipeline, although it is possible to do a randomised grid search on the pipeline."
      ]
    },
    {
      "cell_type": "markdown",
      "metadata": {
        "id": "XG6FyceHwGEm",
        "colab_type": "text"
      },
      "source": [
        "The reason for it takes this particuler Random Search takes so much time is the number of parameters we are tunning and also it runs `n_iter` by `cv` models. Hyperparameter tuning for some other models might much less time to run."
      ]
    },
    {
      "cell_type": "code",
      "metadata": {
        "id": "H4KTay5UwGEn",
        "colab_type": "code",
        "colab": {}
      },
      "source": [
        "vectorizer = TfidfVectorizer()\n",
        "X_vec = vectorizer.fit_transform(X_train)"
      ],
      "execution_count": null,
      "outputs": []
    },
    {
      "cell_type": "code",
      "metadata": {
        "scrolled": false,
        "id": "-plq8aRYwGEr",
        "colab_type": "code",
        "colab": {},
        "outputId": "285a3fbf-1b0d-4f9e-cf90-5d59bf7aaacd"
      },
      "source": [
        "# Fitting Random Search on train subset\n",
        "RFC_Random.fit(X_vec,y_train.ravel())"
      ],
      "execution_count": null,
      "outputs": [
        {
          "output_type": "stream",
          "text": [
            "Fitting 5 folds for each of 5 candidates, totalling 25 fits\n"
          ],
          "name": "stdout"
        },
        {
          "output_type": "stream",
          "text": [
            "[Parallel(n_jobs=1)]: Using backend SequentialBackend with 1 concurrent workers.\n"
          ],
          "name": "stderr"
        },
        {
          "output_type": "stream",
          "text": [
            "[CV] random_state=10, n_estimators=1400, min_samples_split=5, min_samples_leaf=2, max_features=sqrt, max_depth=40, bootstrap=False \n",
            "[CV]  random_state=10, n_estimators=1400, min_samples_split=5, min_samples_leaf=2, max_features=sqrt, max_depth=40, bootstrap=False, total= 3.4min\n",
            "[CV] random_state=10, n_estimators=1400, min_samples_split=5, min_samples_leaf=2, max_features=sqrt, max_depth=40, bootstrap=False \n"
          ],
          "name": "stdout"
        },
        {
          "output_type": "stream",
          "text": [
            "[Parallel(n_jobs=1)]: Done   1 out of   1 | elapsed:  3.4min remaining:    0.0s\n"
          ],
          "name": "stderr"
        },
        {
          "output_type": "stream",
          "text": [
            "[CV]  random_state=10, n_estimators=1400, min_samples_split=5, min_samples_leaf=2, max_features=sqrt, max_depth=40, bootstrap=False, total= 3.3min\n",
            "[CV] random_state=10, n_estimators=1400, min_samples_split=5, min_samples_leaf=2, max_features=sqrt, max_depth=40, bootstrap=False \n",
            "[CV]  random_state=10, n_estimators=1400, min_samples_split=5, min_samples_leaf=2, max_features=sqrt, max_depth=40, bootstrap=False, total= 3.3min\n",
            "[CV] random_state=10, n_estimators=1400, min_samples_split=5, min_samples_leaf=2, max_features=sqrt, max_depth=40, bootstrap=False \n",
            "[CV]  random_state=10, n_estimators=1400, min_samples_split=5, min_samples_leaf=2, max_features=sqrt, max_depth=40, bootstrap=False, total= 3.3min\n",
            "[CV] random_state=10, n_estimators=1400, min_samples_split=5, min_samples_leaf=2, max_features=sqrt, max_depth=40, bootstrap=False \n",
            "[CV]  random_state=10, n_estimators=1400, min_samples_split=5, min_samples_leaf=2, max_features=sqrt, max_depth=40, bootstrap=False, total= 3.3min\n",
            "[CV] random_state=22, n_estimators=1200, min_samples_split=10, min_samples_leaf=4, max_features=sqrt, max_depth=70, bootstrap=False \n",
            "[CV]  random_state=22, n_estimators=1200, min_samples_split=10, min_samples_leaf=4, max_features=sqrt, max_depth=70, bootstrap=False, total= 3.2min\n",
            "[CV] random_state=22, n_estimators=1200, min_samples_split=10, min_samples_leaf=4, max_features=sqrt, max_depth=70, bootstrap=False \n",
            "[CV]  random_state=22, n_estimators=1200, min_samples_split=10, min_samples_leaf=4, max_features=sqrt, max_depth=70, bootstrap=False, total= 3.3min\n",
            "[CV] random_state=22, n_estimators=1200, min_samples_split=10, min_samples_leaf=4, max_features=sqrt, max_depth=70, bootstrap=False \n",
            "[CV]  random_state=22, n_estimators=1200, min_samples_split=10, min_samples_leaf=4, max_features=sqrt, max_depth=70, bootstrap=False, total= 3.3min\n",
            "[CV] random_state=22, n_estimators=1200, min_samples_split=10, min_samples_leaf=4, max_features=sqrt, max_depth=70, bootstrap=False \n",
            "[CV]  random_state=22, n_estimators=1200, min_samples_split=10, min_samples_leaf=4, max_features=sqrt, max_depth=70, bootstrap=False, total= 3.3min\n",
            "[CV] random_state=22, n_estimators=1200, min_samples_split=10, min_samples_leaf=4, max_features=sqrt, max_depth=70, bootstrap=False \n",
            "[CV]  random_state=22, n_estimators=1200, min_samples_split=10, min_samples_leaf=4, max_features=sqrt, max_depth=70, bootstrap=False, total= 3.3min\n",
            "[CV] random_state=8, n_estimators=1800, min_samples_split=2, min_samples_leaf=1, max_features=auto, max_depth=60, bootstrap=False \n",
            "[CV]  random_state=8, n_estimators=1800, min_samples_split=2, min_samples_leaf=1, max_features=auto, max_depth=60, bootstrap=False, total= 8.8min\n",
            "[CV] random_state=8, n_estimators=1800, min_samples_split=2, min_samples_leaf=1, max_features=auto, max_depth=60, bootstrap=False \n",
            "[CV]  random_state=8, n_estimators=1800, min_samples_split=2, min_samples_leaf=1, max_features=auto, max_depth=60, bootstrap=False, total= 8.8min\n",
            "[CV] random_state=8, n_estimators=1800, min_samples_split=2, min_samples_leaf=1, max_features=auto, max_depth=60, bootstrap=False \n",
            "[CV]  random_state=8, n_estimators=1800, min_samples_split=2, min_samples_leaf=1, max_features=auto, max_depth=60, bootstrap=False, total= 9.3min\n",
            "[CV] random_state=8, n_estimators=1800, min_samples_split=2, min_samples_leaf=1, max_features=auto, max_depth=60, bootstrap=False \n",
            "[CV]  random_state=8, n_estimators=1800, min_samples_split=2, min_samples_leaf=1, max_features=auto, max_depth=60, bootstrap=False, total= 9.1min\n",
            "[CV] random_state=8, n_estimators=1800, min_samples_split=2, min_samples_leaf=1, max_features=auto, max_depth=60, bootstrap=False \n",
            "[CV]  random_state=8, n_estimators=1800, min_samples_split=2, min_samples_leaf=1, max_features=auto, max_depth=60, bootstrap=False, total= 9.2min\n",
            "[CV] random_state=21, n_estimators=400, min_samples_split=5, min_samples_leaf=4, max_features=auto, max_depth=20, bootstrap=False \n",
            "[CV]  random_state=21, n_estimators=400, min_samples_split=5, min_samples_leaf=4, max_features=auto, max_depth=20, bootstrap=False, total=  32.5s\n",
            "[CV] random_state=21, n_estimators=400, min_samples_split=5, min_samples_leaf=4, max_features=auto, max_depth=20, bootstrap=False \n",
            "[CV]  random_state=21, n_estimators=400, min_samples_split=5, min_samples_leaf=4, max_features=auto, max_depth=20, bootstrap=False, total=  32.1s\n",
            "[CV] random_state=21, n_estimators=400, min_samples_split=5, min_samples_leaf=4, max_features=auto, max_depth=20, bootstrap=False \n",
            "[CV]  random_state=21, n_estimators=400, min_samples_split=5, min_samples_leaf=4, max_features=auto, max_depth=20, bootstrap=False, total=  30.4s\n",
            "[CV] random_state=21, n_estimators=400, min_samples_split=5, min_samples_leaf=4, max_features=auto, max_depth=20, bootstrap=False \n",
            "[CV]  random_state=21, n_estimators=400, min_samples_split=5, min_samples_leaf=4, max_features=auto, max_depth=20, bootstrap=False, total=  31.1s\n",
            "[CV] random_state=21, n_estimators=400, min_samples_split=5, min_samples_leaf=4, max_features=auto, max_depth=20, bootstrap=False \n",
            "[CV]  random_state=21, n_estimators=400, min_samples_split=5, min_samples_leaf=4, max_features=auto, max_depth=20, bootstrap=False, total=  34.4s\n",
            "[CV] random_state=38, n_estimators=1600, min_samples_split=10, min_samples_leaf=4, max_features=auto, max_depth=40, bootstrap=False \n",
            "[CV]  random_state=38, n_estimators=1600, min_samples_split=10, min_samples_leaf=4, max_features=auto, max_depth=40, bootstrap=False, total= 3.5min\n",
            "[CV] random_state=38, n_estimators=1600, min_samples_split=10, min_samples_leaf=4, max_features=auto, max_depth=40, bootstrap=False \n",
            "[CV]  random_state=38, n_estimators=1600, min_samples_split=10, min_samples_leaf=4, max_features=auto, max_depth=40, bootstrap=False, total= 3.4min\n",
            "[CV] random_state=38, n_estimators=1600, min_samples_split=10, min_samples_leaf=4, max_features=auto, max_depth=40, bootstrap=False \n",
            "[CV]  random_state=38, n_estimators=1600, min_samples_split=10, min_samples_leaf=4, max_features=auto, max_depth=40, bootstrap=False, total= 3.4min\n",
            "[CV] random_state=38, n_estimators=1600, min_samples_split=10, min_samples_leaf=4, max_features=auto, max_depth=40, bootstrap=False \n",
            "[CV]  random_state=38, n_estimators=1600, min_samples_split=10, min_samples_leaf=4, max_features=auto, max_depth=40, bootstrap=False, total= 3.4min\n",
            "[CV] random_state=38, n_estimators=1600, min_samples_split=10, min_samples_leaf=4, max_features=auto, max_depth=40, bootstrap=False \n",
            "[CV]  random_state=38, n_estimators=1600, min_samples_split=10, min_samples_leaf=4, max_features=auto, max_depth=40, bootstrap=False, total= 3.4min\n"
          ],
          "name": "stdout"
        },
        {
          "output_type": "stream",
          "text": [
            "[Parallel(n_jobs=1)]: Done  25 out of  25 | elapsed: 98.1min finished\n"
          ],
          "name": "stderr"
        },
        {
          "output_type": "execute_result",
          "data": {
            "text/plain": [
              "RandomizedSearchCV(cv=5, error_score='raise-deprecating',\n",
              "                   estimator=RandomForestClassifier(bootstrap=True,\n",
              "                                                    class_weight=None,\n",
              "                                                    criterion='gini',\n",
              "                                                    max_depth=None,\n",
              "                                                    max_features='auto',\n",
              "                                                    max_leaf_nodes=None,\n",
              "                                                    min_impurity_decrease=0.0,\n",
              "                                                    min_impurity_split=None,\n",
              "                                                    min_samples_leaf=1,\n",
              "                                                    min_samples_split=2,\n",
              "                                                    min_weight_fraction_leaf=0.0,\n",
              "                                                    n_estimators='warn',\n",
              "                                                    n_jobs=None,\n",
              "                                                    oob_sc...\n",
              "                                        'max_features': ['auto', 'sqrt'],\n",
              "                                        'min_samples_leaf': [1, 2, 4],\n",
              "                                        'min_samples_split': [2, 5, 10],\n",
              "                                        'n_estimators': [200, 400, 600, 800,\n",
              "                                                         1000, 1200, 1400, 1600,\n",
              "                                                         1800, 2000],\n",
              "                                        'random_state': [0, 1, 2, 3, 4, 5, 6, 7,\n",
              "                                                         8, 9, 10, 11, 12, 13,\n",
              "                                                         14, 15, 16, 17, 18, 19,\n",
              "                                                         20, 21, 22, 23, 24, 25,\n",
              "                                                         26, 27, 28, 29, ...]},\n",
              "                   pre_dispatch='2*n_jobs', random_state=42, refit=True,\n",
              "                   return_train_score=False, scoring=None, verbose=2)"
            ]
          },
          "metadata": {
            "tags": []
          },
          "execution_count": 262
        }
      ]
    },
    {
      "cell_type": "code",
      "metadata": {
        "id": "iO1BuCRUwGEw",
        "colab_type": "code",
        "colab": {},
        "outputId": "c851dfd9-b3da-478a-f3fa-d0be1b48a044"
      },
      "source": [
        "# Retrieving parameters for the RFC model that performed best\n",
        "RFC_Random.best_params_"
      ],
      "execution_count": null,
      "outputs": [
        {
          "output_type": "execute_result",
          "data": {
            "text/plain": [
              "{'random_state': 8,\n",
              " 'n_estimators': 1800,\n",
              " 'min_samples_split': 2,\n",
              " 'min_samples_leaf': 1,\n",
              " 'max_features': 'auto',\n",
              " 'max_depth': 60,\n",
              " 'bootstrap': False}"
            ]
          },
          "metadata": {
            "tags": []
          },
          "execution_count": 263
        }
      ]
    },
    {
      "cell_type": "code",
      "metadata": {
        "id": "Yrterz-pwGE0",
        "colab_type": "code",
        "colab": {}
      },
      "source": [
        "# Re-instiate RFC with best parameters\n",
        "rfc_boosted = RandomForestClassifier(random_state=8,\n",
        "                                     n_estimators=1800,\n",
        "                                     min_samples_split=2,\n",
        "                                     min_samples_leaf=1,\n",
        "                                     max_features='auto',\n",
        "                                     max_depth=60,\n",
        "                                     bootstrap=False)"
      ],
      "execution_count": null,
      "outputs": []
    },
    {
      "cell_type": "code",
      "metadata": {
        "id": "nBlNy2jlwGE4",
        "colab_type": "code",
        "colab": {}
      },
      "source": [
        "# Pipeline of RFC model with best parameters\n",
        "boosted_pipe = Pipeline([('vectorizer', TfidfVectorizer()),('RFC',rfc_boosted)])"
      ],
      "execution_count": null,
      "outputs": []
    },
    {
      "cell_type": "code",
      "metadata": {
        "id": "zJ-gcVlXwGE8",
        "colab_type": "code",
        "colab": {},
        "outputId": "0485a0a8-1c72-4914-e972-6d9b8c975bc7"
      },
      "source": [
        "# Fitting/Training model\n",
        "boosted_pipe.fit(X_train,y_train.ravel())"
      ],
      "execution_count": null,
      "outputs": [
        {
          "output_type": "execute_result",
          "data": {
            "text/plain": [
              "Pipeline(steps=[('vectorizer', TfidfVectorizer()),\n",
              "                ('RFC',\n",
              "                 RandomForestClassifier(bootstrap=False, max_depth=60,\n",
              "                                        n_estimators=1800, random_state=8))])"
            ]
          },
          "metadata": {
            "tags": []
          },
          "execution_count": 100
        }
      ]
    },
    {
      "cell_type": "code",
      "metadata": {
        "id": "ZANdCMO9wGFB",
        "colab_type": "code",
        "colab": {}
      },
      "source": [
        "# Predicting validation subset\n",
        "y_pred_boost = boosted_pipe.predict(X_test)"
      ],
      "execution_count": null,
      "outputs": []
    },
    {
      "cell_type": "code",
      "metadata": {
        "id": "flFBq5PZwGFD",
        "colab_type": "code",
        "colab": {},
        "outputId": "095fc213-5b26-404f-c083-6cf416a5e294"
      },
      "source": [
        "# RFC random search confusion matrix\n",
        "RFC_RS_confusion = pd.DataFrame(confusion_matrix(y_test,y_pred_boost),\n",
        "                  index=['Anti','Neutral','Pro','News'],\n",
        "                  columns=['Anti','Neutral','Pro','News'])\n",
        "RFC_RS_confusion"
      ],
      "execution_count": null,
      "outputs": [
        {
          "output_type": "execute_result",
          "data": {
            "text/html": [
              "<div>\n",
              "<style scoped>\n",
              "    .dataframe tbody tr th:only-of-type {\n",
              "        vertical-align: middle;\n",
              "    }\n",
              "\n",
              "    .dataframe tbody tr th {\n",
              "        vertical-align: top;\n",
              "    }\n",
              "\n",
              "    .dataframe thead th {\n",
              "        text-align: right;\n",
              "    }\n",
              "</style>\n",
              "<table border=\"1\" class=\"dataframe\">\n",
              "  <thead>\n",
              "    <tr style=\"text-align: right;\">\n",
              "      <th></th>\n",
              "      <th>Anti</th>\n",
              "      <th>Neutral</th>\n",
              "      <th>Pro</th>\n",
              "      <th>News</th>\n",
              "    </tr>\n",
              "  </thead>\n",
              "  <tbody>\n",
              "    <tr>\n",
              "      <th>Anti</th>\n",
              "      <td>46</td>\n",
              "      <td>15</td>\n",
              "      <td>256</td>\n",
              "      <td>7</td>\n",
              "    </tr>\n",
              "    <tr>\n",
              "      <th>Neutral</th>\n",
              "      <td>1</td>\n",
              "      <td>98</td>\n",
              "      <td>439</td>\n",
              "      <td>13</td>\n",
              "    </tr>\n",
              "    <tr>\n",
              "      <th>Pro</th>\n",
              "      <td>1</td>\n",
              "      <td>14</td>\n",
              "      <td>1901</td>\n",
              "      <td>105</td>\n",
              "    </tr>\n",
              "    <tr>\n",
              "      <th>News</th>\n",
              "      <td>0</td>\n",
              "      <td>2</td>\n",
              "      <td>319</td>\n",
              "      <td>565</td>\n",
              "    </tr>\n",
              "  </tbody>\n",
              "</table>\n",
              "</div>"
            ],
            "text/plain": [
              "         Anti  Neutral   Pro  News\n",
              "Anti       46       15   256     7\n",
              "Neutral     1       98   439    13\n",
              "Pro         1       14  1901   105\n",
              "News        0        2   319   565"
            ]
          },
          "metadata": {
            "tags": []
          },
          "execution_count": 103
        }
      ]
    },
    {
      "cell_type": "code",
      "metadata": {
        "id": "C7BJP-biwGFM",
        "colab_type": "code",
        "colab": {},
        "outputId": "3b738c50-6bbf-45bb-f706-ad7c0afccc86"
      },
      "source": [
        "# Classification report matrix\n",
        "print(classification_report(y_test,y_pred_boost))"
      ],
      "execution_count": null,
      "outputs": [
        {
          "output_type": "stream",
          "text": [
            "              precision    recall  f1-score   support\n",
            "\n",
            "          -1       0.96      0.14      0.25       324\n",
            "           0       0.76      0.18      0.29       551\n",
            "           1       0.65      0.94      0.77      2021\n",
            "           2       0.82      0.64      0.72       886\n",
            "\n",
            "    accuracy                           0.69      3782\n",
            "   macro avg       0.80      0.47      0.51      3782\n",
            "weighted avg       0.73      0.69      0.64      3782\n",
            "\n"
          ],
          "name": "stdout"
        }
      ]
    },
    {
      "cell_type": "markdown",
      "metadata": {
        "id": "_1XrTONxwGFR",
        "colab_type": "text"
      },
      "source": [
        "#### <font color=blue>Predictions on test dataset  using RFC_RS"
      ]
    },
    {
      "cell_type": "code",
      "metadata": {
        "id": "2gF4RTvzwGFR",
        "colab_type": "code",
        "colab": {}
      },
      "source": [
        "y_boost = boosted_pipe.predict(test.message)"
      ],
      "execution_count": null,
      "outputs": []
    },
    {
      "cell_type": "code",
      "metadata": {
        "id": "fYeYsI49wGFY",
        "colab_type": "code",
        "colab": {},
        "outputId": "43321ba1-fb94-4d6e-93b7-f742fbbf1249"
      },
      "source": [
        "y_boost"
      ],
      "execution_count": null,
      "outputs": [
        {
          "output_type": "execute_result",
          "data": {
            "text/plain": [
              "array([1, 1, 1, ..., 1, 0, 1], dtype=int64)"
            ]
          },
          "metadata": {
            "tags": []
          },
          "execution_count": 106
        }
      ]
    },
    {
      "cell_type": "code",
      "metadata": {
        "id": "7fjrMObYwGFa",
        "colab_type": "code",
        "colab": {},
        "outputId": "8a8cfb02-af38-429a-e0a0-121c3753560c"
      },
      "source": [
        "# Predictions in submission kaggle format\n",
        "RFC_RS_submission1 = pd.DataFrame({'tweetid': test.index, \n",
        "                           'sentiment': y_boost})\n",
        "\n",
        "RFC_RS_submission1 "
      ],
      "execution_count": null,
      "outputs": [
        {
          "output_type": "execute_result",
          "data": {
            "text/html": [
              "<div>\n",
              "<style scoped>\n",
              "    .dataframe tbody tr th:only-of-type {\n",
              "        vertical-align: middle;\n",
              "    }\n",
              "\n",
              "    .dataframe tbody tr th {\n",
              "        vertical-align: top;\n",
              "    }\n",
              "\n",
              "    .dataframe thead th {\n",
              "        text-align: right;\n",
              "    }\n",
              "</style>\n",
              "<table border=\"1\" class=\"dataframe\">\n",
              "  <thead>\n",
              "    <tr style=\"text-align: right;\">\n",
              "      <th></th>\n",
              "      <th>tweetid</th>\n",
              "      <th>sentiment</th>\n",
              "    </tr>\n",
              "  </thead>\n",
              "  <tbody>\n",
              "    <tr>\n",
              "      <th>0</th>\n",
              "      <td>169760</td>\n",
              "      <td>1</td>\n",
              "    </tr>\n",
              "    <tr>\n",
              "      <th>1</th>\n",
              "      <td>35326</td>\n",
              "      <td>1</td>\n",
              "    </tr>\n",
              "    <tr>\n",
              "      <th>2</th>\n",
              "      <td>224985</td>\n",
              "      <td>1</td>\n",
              "    </tr>\n",
              "    <tr>\n",
              "      <th>3</th>\n",
              "      <td>476263</td>\n",
              "      <td>1</td>\n",
              "    </tr>\n",
              "    <tr>\n",
              "      <th>4</th>\n",
              "      <td>872928</td>\n",
              "      <td>0</td>\n",
              "    </tr>\n",
              "    <tr>\n",
              "      <th>...</th>\n",
              "      <td>...</td>\n",
              "      <td>...</td>\n",
              "    </tr>\n",
              "    <tr>\n",
              "      <th>10541</th>\n",
              "      <td>895714</td>\n",
              "      <td>1</td>\n",
              "    </tr>\n",
              "    <tr>\n",
              "      <th>10542</th>\n",
              "      <td>875167</td>\n",
              "      <td>1</td>\n",
              "    </tr>\n",
              "    <tr>\n",
              "      <th>10543</th>\n",
              "      <td>78329</td>\n",
              "      <td>1</td>\n",
              "    </tr>\n",
              "    <tr>\n",
              "      <th>10544</th>\n",
              "      <td>867455</td>\n",
              "      <td>0</td>\n",
              "    </tr>\n",
              "    <tr>\n",
              "      <th>10545</th>\n",
              "      <td>470892</td>\n",
              "      <td>1</td>\n",
              "    </tr>\n",
              "  </tbody>\n",
              "</table>\n",
              "<p>10546 rows × 2 columns</p>\n",
              "</div>"
            ],
            "text/plain": [
              "       tweetid  sentiment\n",
              "0       169760          1\n",
              "1        35326          1\n",
              "2       224985          1\n",
              "3       476263          1\n",
              "4       872928          0\n",
              "...        ...        ...\n",
              "10541   895714          1\n",
              "10542   875167          1\n",
              "10543    78329          1\n",
              "10544   867455          0\n",
              "10545   470892          1\n",
              "\n",
              "[10546 rows x 2 columns]"
            ]
          },
          "metadata": {
            "tags": []
          },
          "execution_count": 107
        }
      ]
    },
    {
      "cell_type": "code",
      "metadata": {
        "id": "NeKNAKsKwGFc",
        "colab_type": "code",
        "colab": {}
      },
      "source": [
        "# Saving to .csv file\n",
        "RFC_RS_submission1.to_csv('RandomForest_boosted_01.csv',index=False)"
      ],
      "execution_count": null,
      "outputs": []
    },
    {
      "cell_type": "markdown",
      "metadata": {
        "id": "zYaoQOrPwGFe",
        "colab_type": "text"
      },
      "source": [
        "#### <font color=blue>Save Model"
      ]
    },
    {
      "cell_type": "code",
      "metadata": {
        "id": "NYmiCx5KwGFe",
        "colab_type": "code",
        "colab": {}
      },
      "source": [
        "model_save_path = 'RandomForest_boosted_01.pkl'\n",
        "with open(model_save_path,'wb') as file:\n",
        "    pickle.dump(boosted_pipe,file)"
      ],
      "execution_count": null,
      "outputs": []
    },
    {
      "cell_type": "markdown",
      "metadata": {
        "id": "gO3AiTknwGFg",
        "colab_type": "text"
      },
      "source": [
        "### <font color=blue>End Experiment"
      ]
    },
    {
      "cell_type": "code",
      "metadata": {
        "id": "5SQueyfKwGFh",
        "colab_type": "code",
        "colab": {},
        "outputId": "45c5adec-b3b6-4044-96c5-e937b4397b67"
      },
      "source": [
        "experiment.end()\n",
        "\n",
        "experiment.display()"
      ],
      "execution_count": null,
      "outputs": [
        {
          "output_type": "stream",
          "text": [
            "COMET INFO: ---------------------------\n",
            "COMET INFO: Comet.ml Experiment Summary\n",
            "COMET INFO: ---------------------------\n",
            "COMET INFO:   Data:\n",
            "COMET INFO:     display_summary_level : 1\n",
            "COMET INFO:     url                   : https://www.comet.ml/shyken/general/49683782d19b4d558e999aa6c5590bfd\n",
            "COMET INFO:   Parameters [count]:\n",
            "COMET INFO:     KNN_algorithm                : auto\n",
            "COMET INFO:     KNN_leaf_size                : 30\n",
            "COMET INFO:     KNN_metric                   : minkowski\n",
            "COMET INFO:     KNN_metric_params            : 1\n",
            "COMET INFO:     KNN_n_jobs                   : 1\n",
            "COMET INFO:     KNN_n_neighbors              : 10\n",
            "COMET INFO:     KNN_p                        : 2\n",
            "COMET INFO:     KNN_weights                  : uniform\n",
            "COMET INFO:     RFC_bootstrap [2]            : 2\n",
            "COMET INFO:     RFC_ccp_alpha                : 1\n",
            "COMET INFO:     RFC_class_weight             : 1\n",
            "COMET INFO:     RFC_criterion                : gini\n",
            "COMET INFO:     RFC_max_depth [2]            : 60\n",
            "COMET INFO:     RFC_max_features             : auto\n",
            "COMET INFO:     RFC_max_leaf_nodes           : 1\n",
            "COMET INFO:     RFC_max_samples              : 1\n",
            "COMET INFO:     RFC_min_impurity_decrease    : 1\n",
            "COMET INFO:     RFC_min_impurity_split       : 1\n",
            "COMET INFO:     RFC_min_samples_leaf         : 1\n",
            "COMET INFO:     RFC_min_samples_split        : 2\n",
            "COMET INFO:     RFC_min_weight_fraction_leaf : 1\n",
            "COMET INFO:     RFC_n_estimators [2]         : 1800\n",
            "COMET INFO:     RFC_n_jobs                   : 1\n",
            "COMET INFO:     RFC_oob_score                : 1\n",
            "COMET INFO:     RFC_random_state [2]         : 8\n",
            "COMET INFO:     RFC_verbose                  : 1\n",
            "COMET INFO:     RFC_warm_start               : 1\n",
            "COMET INFO:     linearS_C                    : 1.0\n",
            "COMET INFO:     linearS_class_weight         : 1\n",
            "COMET INFO:     linearS_dual                 : True\n",
            "COMET INFO:     linearS_fit_intercept        : True\n",
            "COMET INFO:     linearS_intercept_scaling    : 1\n",
            "COMET INFO:     linearS_loss                 : squared_hinge\n",
            "COMET INFO:     linearS_max_iter             : 1000\n",
            "COMET INFO:     linearS_multi_class          : ovr\n",
            "COMET INFO:     linearS_penalty              : l2\n",
            "COMET INFO:     linearS_random_state         : 1\n",
            "COMET INFO:     linearS_tol                  : 0.0001\n",
            "COMET INFO:     linearS_verbose              : 1\n",
            "COMET INFO:     vectorizer_analyzer          : word\n",
            "COMET INFO:     vectorizer_binary            : 1\n",
            "COMET INFO:     vectorizer_decode_error      : strict\n",
            "COMET INFO:     vectorizer_dtype             : <class 'numpy.float64'>\n",
            "COMET INFO:     vectorizer_encoding          : utf-8\n",
            "COMET INFO:     vectorizer_input             : content\n",
            "COMET INFO:     vectorizer_lowercase         : True\n",
            "COMET INFO:     vectorizer_max_df            : 1.0\n",
            "COMET INFO:     vectorizer_max_features      : 1\n",
            "COMET INFO:     vectorizer_min_df            : 1\n",
            "COMET INFO:     vectorizer_ngram_range       : (1, 1)\n",
            "COMET INFO:     vectorizer_norm              : l2\n",
            "COMET INFO:     vectorizer_preprocessor      : 1\n",
            "COMET INFO:     vectorizer_smooth_idf        : True\n",
            "COMET INFO:     vectorizer_stop_words        : 1\n",
            "COMET INFO:     vectorizer_strip_accents     : 1\n",
            "COMET INFO:     vectorizer_sublinear_tf      : 1\n",
            "COMET INFO:     vectorizer_token_pattern     : (?u)\\b\\w\\w+\\b\n",
            "COMET INFO:     vectorizer_tokenizer         : 1\n",
            "COMET INFO:     vectorizer_use_idf           : True\n",
            "COMET INFO:     vectorizer_vocabulary        : 1\n",
            "COMET INFO:   Uploads:\n",
            "COMET INFO:     code                : 1 (29 KB)\n",
            "COMET INFO:     environment details : 1\n",
            "COMET INFO:     filename            : 1\n",
            "COMET INFO:     installed packages  : 1\n",
            "COMET INFO:     notebook            : 1\n",
            "COMET INFO: ---------------------------\n",
            "COMET INFO: Uploading stats to Comet before program termination (may take several seconds)\n"
          ],
          "name": "stderr"
        },
        {
          "output_type": "display_data",
          "data": {
            "text/html": [
              "\n",
              "        <iframe\n",
              "            width=\"100%\"\n",
              "            height=\"800px\"\n",
              "            src=\"https://www.comet.ml/shyken/general/49683782d19b4d558e999aa6c5590bfd\"\n",
              "            frameborder=\"0\"\n",
              "            allowfullscreen\n",
              "        ></iframe>\n",
              "        "
            ],
            "text/plain": [
              "<IPython.lib.display.IFrame at 0x24a45e118b0>"
            ]
          },
          "metadata": {
            "tags": []
          }
        }
      ]
    },
    {
      "cell_type": "code",
      "metadata": {
        "id": "H9PUiwP9wGFi",
        "colab_type": "code",
        "colab": {}
      },
      "source": [
        ""
      ],
      "execution_count": null,
      "outputs": []
    }
  ]
}